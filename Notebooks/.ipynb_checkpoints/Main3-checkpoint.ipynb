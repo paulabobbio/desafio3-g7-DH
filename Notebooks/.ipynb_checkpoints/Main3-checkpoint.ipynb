{
 "cells": [
  {
   "cell_type": "markdown",
   "metadata": {},
   "source": [
    "# Desafío 3 - Grupo 7"
   ]
  },
  {
   "cell_type": "markdown",
   "metadata": {},
   "source": [
    "## Integrantes:\n",
    "\n",
    "- Bobbio, Paula\n",
    "- Sammartino, Virginia\n",
    "- Cocio, Alex Federico\n",
    "- Onno, Olivier (?"
   ]
  },
  {
   "cell_type": "markdown",
   "metadata": {},
   "source": [
    "## Lectura del dataset"
   ]
  },
  {
   "cell_type": "code",
   "execution_count": 1,
   "metadata": {},
   "outputs": [],
   "source": [
    "import numpy as np\n",
    "import pandas as pd"
   ]
  },
  {
   "cell_type": "code",
   "execution_count": 2,
   "metadata": {},
   "outputs": [
    {
     "name": "stderr",
     "output_type": "stream",
     "text": [
      "C:\\Users\\alexc\\anaconda3\\envs\\dhdsblend\\lib\\site-packages\\IPython\\core\\interactiveshell.py:3146: DtypeWarning: Columns (113) have mixed types.Specify dtype option on import or set low_memory=False.\n",
      "  interactivity=interactivity, compiler=compiler, result=result)\n"
     ]
    }
   ],
   "source": [
    "data = pd.read_csv('../Data/Aprender2018-primaria-6.csv', sep=';')"
   ]
  },
  {
   "cell_type": "markdown",
   "metadata": {},
   "source": [
    "The reason you get this low_memory warning is because guessing dtypes for each column is very memory demanding. Pandas tries to determine what dtype to set by analyzing the data in each column. \n",
    "\n",
    "Fuente: https://stackoverflow.com/questions/24251219/pandas-read-csv-low-memory-and-dtype-options"
   ]
  },
  {
   "cell_type": "code",
   "execution_count": 3,
   "metadata": {},
   "outputs": [
    {
     "data": {
      "text/html": [
       "<div>\n",
       "<style scoped>\n",
       "    .dataframe tbody tr th:only-of-type {\n",
       "        vertical-align: middle;\n",
       "    }\n",
       "\n",
       "    .dataframe tbody tr th {\n",
       "        vertical-align: top;\n",
       "    }\n",
       "\n",
       "    .dataframe thead th {\n",
       "        text-align: right;\n",
       "    }\n",
       "</style>\n",
       "<table border=\"1\" class=\"dataframe\">\n",
       "  <thead>\n",
       "    <tr style=\"text-align: right;\">\n",
       "      <th></th>\n",
       "      <th>ap1</th>\n",
       "      <th>ap2</th>\n",
       "      <th>ap3a</th>\n",
       "      <th>ap3b</th>\n",
       "      <th>ap3c</th>\n",
       "      <th>ap4</th>\n",
       "      <th>ap5a</th>\n",
       "      <th>ap5b</th>\n",
       "      <th>ap5c</th>\n",
       "      <th>ap5d</th>\n",
       "      <th>...</th>\n",
       "      <th>ponder</th>\n",
       "      <th>lpondera</th>\n",
       "      <th>ldesemp</th>\n",
       "      <th>lpuntaje</th>\n",
       "      <th>mpondera</th>\n",
       "      <th>mdesemp</th>\n",
       "      <th>mpuntaje</th>\n",
       "      <th>isocioa</th>\n",
       "      <th>isocioal</th>\n",
       "      <th>isocioam</th>\n",
       "    </tr>\n",
       "  </thead>\n",
       "  <tbody>\n",
       "    <tr>\n",
       "      <th>391704</th>\n",
       "      <td>2</td>\n",
       "      <td>1</td>\n",
       "      <td>1</td>\n",
       "      <td>1</td>\n",
       "      <td>5</td>\n",
       "      <td>9</td>\n",
       "      <td>1</td>\n",
       "      <td>1</td>\n",
       "      <td>-9</td>\n",
       "      <td>1</td>\n",
       "      <td>...</td>\n",
       "      <td>1,2019969</td>\n",
       "      <td>1,2970999</td>\n",
       "      <td>1</td>\n",
       "      <td>374,34784</td>\n",
       "      <td>1,2986939</td>\n",
       "      <td>1</td>\n",
       "      <td>363,06418</td>\n",
       "      <td>2</td>\n",
       "      <td>2</td>\n",
       "      <td>2</td>\n",
       "    </tr>\n",
       "    <tr>\n",
       "      <th>351180</th>\n",
       "      <td>3</td>\n",
       "      <td>1</td>\n",
       "      <td>1</td>\n",
       "      <td>1</td>\n",
       "      <td>-9</td>\n",
       "      <td>7</td>\n",
       "      <td>1</td>\n",
       "      <td>2</td>\n",
       "      <td>1</td>\n",
       "      <td>1</td>\n",
       "      <td>...</td>\n",
       "      <td>1,0683583</td>\n",
       "      <td>1,0038865</td>\n",
       "      <td>3</td>\n",
       "      <td>511,14255</td>\n",
       "      <td>1,0687739</td>\n",
       "      <td>2</td>\n",
       "      <td>406,11456</td>\n",
       "      <td>-1</td>\n",
       "      <td>-1</td>\n",
       "      <td>-1</td>\n",
       "    </tr>\n",
       "    <tr>\n",
       "      <th>547386</th>\n",
       "      <td>2</td>\n",
       "      <td>1</td>\n",
       "      <td>1</td>\n",
       "      <td>1</td>\n",
       "      <td>1</td>\n",
       "      <td>9</td>\n",
       "      <td>1</td>\n",
       "      <td>-9</td>\n",
       "      <td>-9</td>\n",
       "      <td>-9</td>\n",
       "      <td>...</td>\n",
       "      <td>1,1875062</td>\n",
       "      <td></td>\n",
       "      <td></td>\n",
       "      <td></td>\n",
       "      <td>1,4608219</td>\n",
       "      <td>1</td>\n",
       "      <td>352,89041</td>\n",
       "      <td>2</td>\n",
       "      <td></td>\n",
       "      <td>2</td>\n",
       "    </tr>\n",
       "    <tr>\n",
       "      <th>128919</th>\n",
       "      <td>2</td>\n",
       "      <td>2</td>\n",
       "      <td>1</td>\n",
       "      <td>1</td>\n",
       "      <td>1</td>\n",
       "      <td>7</td>\n",
       "      <td>1</td>\n",
       "      <td>1</td>\n",
       "      <td>-9</td>\n",
       "      <td>1</td>\n",
       "      <td>...</td>\n",
       "      <td>1,2907157</td>\n",
       "      <td>1,3717345</td>\n",
       "      <td>2</td>\n",
       "      <td>422,14212</td>\n",
       "      <td></td>\n",
       "      <td></td>\n",
       "      <td></td>\n",
       "      <td>2</td>\n",
       "      <td>2</td>\n",
       "      <td></td>\n",
       "    </tr>\n",
       "    <tr>\n",
       "      <th>285294</th>\n",
       "      <td>2</td>\n",
       "      <td>2</td>\n",
       "      <td>1</td>\n",
       "      <td>1</td>\n",
       "      <td>1</td>\n",
       "      <td>4</td>\n",
       "      <td>1</td>\n",
       "      <td>2</td>\n",
       "      <td>-9</td>\n",
       "      <td>1</td>\n",
       "      <td>...</td>\n",
       "      <td>1,0395867</td>\n",
       "      <td>1,0772449</td>\n",
       "      <td>3</td>\n",
       "      <td>538,13947</td>\n",
       "      <td>1,0369688</td>\n",
       "      <td>1</td>\n",
       "      <td>358,12506</td>\n",
       "      <td>2</td>\n",
       "      <td>2</td>\n",
       "      <td>2</td>\n",
       "    </tr>\n",
       "  </tbody>\n",
       "</table>\n",
       "<p>5 rows × 124 columns</p>\n",
       "</div>"
      ],
      "text/plain": [
       "        ap1  ap2  ap3a  ap3b  ap3c  ap4  ap5a  ap5b  ap5c  ap5d  ...  \\\n",
       "391704    2    1     1     1     5    9     1     1    -9     1  ...   \n",
       "351180    3    1     1     1    -9    7     1     2     1     1  ...   \n",
       "547386    2    1     1     1     1    9     1    -9    -9    -9  ...   \n",
       "128919    2    2     1     1     1    7     1     1    -9     1  ...   \n",
       "285294    2    2     1     1     1    4     1     2    -9     1  ...   \n",
       "\n",
       "           ponder   lpondera  ldesemp   lpuntaje   mpondera  mdesemp  \\\n",
       "391704  1,2019969  1,2970999        1  374,34784  1,2986939        1   \n",
       "351180  1,0683583  1,0038865        3  511,14255  1,0687739        2   \n",
       "547386  1,1875062                                 1,4608219        1   \n",
       "128919  1,2907157  1,3717345        2  422,14212                       \n",
       "285294  1,0395867  1,0772449        3  538,13947  1,0369688        1   \n",
       "\n",
       "         mpuntaje  isocioa  isocioal  isocioam  \n",
       "391704  363,06418        2         2         2  \n",
       "351180  406,11456       -1        -1        -1  \n",
       "547386  352,89041        2                   2  \n",
       "128919                   2         2            \n",
       "285294  358,12506        2         2         2  \n",
       "\n",
       "[5 rows x 124 columns]"
      ]
     },
     "execution_count": 3,
     "metadata": {},
     "output_type": "execute_result"
    }
   ],
   "source": [
    "data.sample(5)"
   ]
  },
  {
   "cell_type": "markdown",
   "metadata": {},
   "source": [
    "## Feature Selection"
   ]
  },
  {
   "cell_type": "markdown",
   "metadata": {},
   "source": [
    "Descartamos manualmente las variables que consideramos redundantes para el problema. Estas son:\n",
    "- Indice del Contexto Social de la Educación\n",
    "- Factor de expansión (solo para variable cuestionario complementario)\n",
    "- Factor de expansión prueba de Lengua\n",
    "- Puntaje en Lengua\n",
    "- Factor de expansión prueba de Matemática\n",
    "- Puntaje en Matemática\n",
    "- Indice socioeconómico del alumno\n",
    "- Indice socioeconómico del alumno ponderador Lengua\n",
    "- Indice socioeconómico del alumno ponderador Matemática\n",
    "\n",
    "- Desempeño en Lengua\n",
    "\n",
    "**¿Deberíamos explicar por qué?**"
   ]
  },
  {
   "cell_type": "code",
   "execution_count": 4,
   "metadata": {},
   "outputs": [
    {
     "name": "stdout",
     "output_type": "stream",
     "text": [
      "Eliminamos 10 columnas.\n"
     ]
    }
   ],
   "source": [
    "columns_to_drop = ['ICSE','ponder','lpondera','lpuntaje','mpondera','mpuntaje','isocioa','isocioal','isocioam', 'ldesemp']\n",
    "data1 = data.drop(columns_to_drop, axis=1)\n",
    "print('Eliminamos', data.shape[1]-data1.shape[1], 'columnas.')"
   ]
  },
  {
   "cell_type": "markdown",
   "metadata": {},
   "source": [
    "# Analizamos algunas características del dataset"
   ]
  },
  {
   "cell_type": "code",
   "execution_count": 5,
   "metadata": {
    "scrolled": true
   },
   "outputs": [
    {
     "name": "stdout",
     "output_type": "stream",
     "text": [
      "<class 'pandas.core.frame.DataFrame'>\n",
      "RangeIndex: 579510 entries, 0 to 579509\n",
      "Columns: 114 entries, ap1 to mdesemp\n",
      "dtypes: int64(113), object(1)\n",
      "memory usage: 504.0+ MB\n"
     ]
    }
   ],
   "source": [
    "# ¿Cuántas observaciones hay en la tabla?\n",
    "data1.info()"
   ]
  },
  {
   "cell_type": "code",
   "execution_count": 6,
   "metadata": {},
   "outputs": [
    {
     "name": "stdout",
     "output_type": "stream",
     "text": [
      "El dataset tiene 579510 filas y 114 columnas.\n"
     ]
    }
   ],
   "source": [
    "# Dimensión del dataframe\n",
    "print('El dataset tiene', data1.shape[0], 'filas y', data1.shape[1], 'columnas.') "
   ]
  },
  {
   "cell_type": "code",
   "execution_count": 7,
   "metadata": {},
   "outputs": [
    {
     "data": {
      "text/plain": [
       "int64     113\n",
       "object      1\n",
       "dtype: int64"
      ]
     },
     "execution_count": 7,
     "metadata": {},
     "output_type": "execute_result"
    }
   ],
   "source": [
    "# ¿Qué tipo de datos tiene?\n",
    "data1.dtypes.value_counts()"
   ]
  },
  {
   "cell_type": "code",
   "execution_count": 8,
   "metadata": {},
   "outputs": [
    {
     "name": "stdout",
     "output_type": "stream",
     "text": [
      "Datos faltantes: 0\n"
     ]
    }
   ],
   "source": [
    "# ¿Hay datos faltantes?\n",
    "print('Datos faltantes:', data1.isnull().any(axis=1).sum())"
   ]
  },
  {
   "cell_type": "code",
   "execution_count": 9,
   "metadata": {},
   "outputs": [
    {
     "data": {
      "text/plain": [
       "3    0.37\n",
       "2    0.21\n",
       "4    0.20\n",
       "1    0.18\n",
       "     0.05\n",
       "Name: mdesemp, dtype: float64"
      ]
     },
     "execution_count": 9,
     "metadata": {},
     "output_type": "execute_result"
    }
   ],
   "source": [
    "# ¿Están balanceados los datos de la variable target?\n",
    "data1.mdesemp.value_counts(normalize=True, ascending=False).round(2)"
   ]
  },
  {
   "cell_type": "code",
   "execution_count": 10,
   "metadata": {},
   "outputs": [
    {
     "data": {
      "image/png": "[encoded data removed]",
      "text/plain": [
       "<Figure size 432x288 with 1 Axes>"
      ]
     },
     "metadata": {
      "needs_background": "light"
     },
     "output_type": "display_data"
    }
   ],
   "source": [
    "import seaborn as sns\n",
    "import matplotlib.pyplot as plt\n",
    "%matplotlib inline\n",
    "\n",
    "sns.countplot(data1.mdesemp.sort_values(), label=\"Count\")\n",
    "plt.show()"
   ]
  },
  {
   "cell_type": "markdown",
   "metadata": {},
   "source": [
    "## Algunas consideraciones"
   ]
  },
  {
   "cell_type": "markdown",
   "metadata": {},
   "source": [
    "1) Elimino las filas que no especifica ningún valor en la columna target"
   ]
  },
  {
   "cell_type": "code",
   "execution_count": 11,
   "metadata": {},
   "outputs": [
    {
     "data": {
      "text/html": [
       "<div>\n",
       "<style scoped>\n",
       "    .dataframe tbody tr th:only-of-type {\n",
       "        vertical-align: middle;\n",
       "    }\n",
       "\n",
       "    .dataframe tbody tr th {\n",
       "        vertical-align: top;\n",
       "    }\n",
       "\n",
       "    .dataframe thead th {\n",
       "        text-align: right;\n",
       "    }\n",
       "</style>\n",
       "<table border=\"1\" class=\"dataframe\">\n",
       "  <thead>\n",
       "    <tr style=\"text-align: right;\">\n",
       "      <th></th>\n",
       "      <th>ap1</th>\n",
       "      <th>ap2</th>\n",
       "      <th>ap3a</th>\n",
       "      <th>ap3b</th>\n",
       "      <th>ap3c</th>\n",
       "      <th>ap4</th>\n",
       "      <th>ap5a</th>\n",
       "      <th>ap5b</th>\n",
       "      <th>ap5c</th>\n",
       "      <th>ap5d</th>\n",
       "      <th>...</th>\n",
       "      <th>ap39</th>\n",
       "      <th>ap40</th>\n",
       "      <th>ap41a</th>\n",
       "      <th>ap41b</th>\n",
       "      <th>ap41c</th>\n",
       "      <th>ap42</th>\n",
       "      <th>cod_provincia</th>\n",
       "      <th>sector</th>\n",
       "      <th>ambito</th>\n",
       "      <th>mdesemp</th>\n",
       "    </tr>\n",
       "  </thead>\n",
       "  <tbody>\n",
       "    <tr>\n",
       "      <th>11</th>\n",
       "      <td>3</td>\n",
       "      <td>1</td>\n",
       "      <td>1</td>\n",
       "      <td>1</td>\n",
       "      <td>1</td>\n",
       "      <td>3</td>\n",
       "      <td>2</td>\n",
       "      <td>2</td>\n",
       "      <td>-9</td>\n",
       "      <td>-9</td>\n",
       "      <td>...</td>\n",
       "      <td>-1</td>\n",
       "      <td>-1</td>\n",
       "      <td>1</td>\n",
       "      <td>1</td>\n",
       "      <td>-9</td>\n",
       "      <td>-1</td>\n",
       "      <td>6</td>\n",
       "      <td>1</td>\n",
       "      <td>1</td>\n",
       "      <td></td>\n",
       "    </tr>\n",
       "    <tr>\n",
       "      <th>45</th>\n",
       "      <td>2</td>\n",
       "      <td>1</td>\n",
       "      <td>1</td>\n",
       "      <td>1</td>\n",
       "      <td>1</td>\n",
       "      <td>7</td>\n",
       "      <td>1</td>\n",
       "      <td>2</td>\n",
       "      <td>2</td>\n",
       "      <td>2</td>\n",
       "      <td>...</td>\n",
       "      <td>-1</td>\n",
       "      <td>-1</td>\n",
       "      <td>2</td>\n",
       "      <td>2</td>\n",
       "      <td>-9</td>\n",
       "      <td>-1</td>\n",
       "      <td>6</td>\n",
       "      <td>1</td>\n",
       "      <td>1</td>\n",
       "      <td></td>\n",
       "    </tr>\n",
       "    <tr>\n",
       "      <th>61</th>\n",
       "      <td>2</td>\n",
       "      <td>1</td>\n",
       "      <td>1</td>\n",
       "      <td>2</td>\n",
       "      <td>2</td>\n",
       "      <td>4</td>\n",
       "      <td>1</td>\n",
       "      <td>1</td>\n",
       "      <td>-9</td>\n",
       "      <td>1</td>\n",
       "      <td>...</td>\n",
       "      <td>-1</td>\n",
       "      <td>-1</td>\n",
       "      <td>2</td>\n",
       "      <td>2</td>\n",
       "      <td>1</td>\n",
       "      <td>-1</td>\n",
       "      <td>6</td>\n",
       "      <td>1</td>\n",
       "      <td>1</td>\n",
       "      <td></td>\n",
       "    </tr>\n",
       "    <tr>\n",
       "      <th>62</th>\n",
       "      <td>3</td>\n",
       "      <td>1</td>\n",
       "      <td>1</td>\n",
       "      <td>1</td>\n",
       "      <td>1</td>\n",
       "      <td>4</td>\n",
       "      <td>1</td>\n",
       "      <td>1</td>\n",
       "      <td>2</td>\n",
       "      <td>1</td>\n",
       "      <td>...</td>\n",
       "      <td>-1</td>\n",
       "      <td>-1</td>\n",
       "      <td>2</td>\n",
       "      <td>3</td>\n",
       "      <td>1</td>\n",
       "      <td>-1</td>\n",
       "      <td>6</td>\n",
       "      <td>1</td>\n",
       "      <td>1</td>\n",
       "      <td></td>\n",
       "    </tr>\n",
       "    <tr>\n",
       "      <th>63</th>\n",
       "      <td>2</td>\n",
       "      <td>1</td>\n",
       "      <td>1</td>\n",
       "      <td>1</td>\n",
       "      <td>1</td>\n",
       "      <td>6</td>\n",
       "      <td>1</td>\n",
       "      <td>2</td>\n",
       "      <td>2</td>\n",
       "      <td>1</td>\n",
       "      <td>...</td>\n",
       "      <td>-1</td>\n",
       "      <td>-1</td>\n",
       "      <td>-9</td>\n",
       "      <td>-9</td>\n",
       "      <td>-9</td>\n",
       "      <td>-1</td>\n",
       "      <td>6</td>\n",
       "      <td>1</td>\n",
       "      <td>1</td>\n",
       "      <td></td>\n",
       "    </tr>\n",
       "    <tr>\n",
       "      <th>...</th>\n",
       "      <td>...</td>\n",
       "      <td>...</td>\n",
       "      <td>...</td>\n",
       "      <td>...</td>\n",
       "      <td>...</td>\n",
       "      <td>...</td>\n",
       "      <td>...</td>\n",
       "      <td>...</td>\n",
       "      <td>...</td>\n",
       "      <td>...</td>\n",
       "      <td>...</td>\n",
       "      <td>...</td>\n",
       "      <td>...</td>\n",
       "      <td>...</td>\n",
       "      <td>...</td>\n",
       "      <td>...</td>\n",
       "      <td>...</td>\n",
       "      <td>...</td>\n",
       "      <td>...</td>\n",
       "      <td>...</td>\n",
       "      <td>...</td>\n",
       "    </tr>\n",
       "    <tr>\n",
       "      <th>579431</th>\n",
       "      <td>2</td>\n",
       "      <td>2</td>\n",
       "      <td>1</td>\n",
       "      <td>1</td>\n",
       "      <td>1</td>\n",
       "      <td>3</td>\n",
       "      <td>1</td>\n",
       "      <td>1</td>\n",
       "      <td>2</td>\n",
       "      <td>1</td>\n",
       "      <td>...</td>\n",
       "      <td>-1</td>\n",
       "      <td>-1</td>\n",
       "      <td>2</td>\n",
       "      <td>3</td>\n",
       "      <td>1</td>\n",
       "      <td>-1</td>\n",
       "      <td>94</td>\n",
       "      <td>1</td>\n",
       "      <td>1</td>\n",
       "      <td></td>\n",
       "    </tr>\n",
       "    <tr>\n",
       "      <th>579432</th>\n",
       "      <td>2</td>\n",
       "      <td>2</td>\n",
       "      <td>1</td>\n",
       "      <td>1</td>\n",
       "      <td>1</td>\n",
       "      <td>3</td>\n",
       "      <td>1</td>\n",
       "      <td>2</td>\n",
       "      <td>2</td>\n",
       "      <td>2</td>\n",
       "      <td>...</td>\n",
       "      <td>-1</td>\n",
       "      <td>-1</td>\n",
       "      <td>2</td>\n",
       "      <td>4</td>\n",
       "      <td>2</td>\n",
       "      <td>-1</td>\n",
       "      <td>94</td>\n",
       "      <td>1</td>\n",
       "      <td>1</td>\n",
       "      <td></td>\n",
       "    </tr>\n",
       "    <tr>\n",
       "      <th>579483</th>\n",
       "      <td>3</td>\n",
       "      <td>2</td>\n",
       "      <td>1</td>\n",
       "      <td>1</td>\n",
       "      <td>1</td>\n",
       "      <td>5</td>\n",
       "      <td>1</td>\n",
       "      <td>1</td>\n",
       "      <td>2</td>\n",
       "      <td>2</td>\n",
       "      <td>...</td>\n",
       "      <td>-1</td>\n",
       "      <td>-1</td>\n",
       "      <td>1</td>\n",
       "      <td>-9</td>\n",
       "      <td>-6</td>\n",
       "      <td>-1</td>\n",
       "      <td>94</td>\n",
       "      <td>1</td>\n",
       "      <td>1</td>\n",
       "      <td></td>\n",
       "    </tr>\n",
       "    <tr>\n",
       "      <th>579493</th>\n",
       "      <td>2</td>\n",
       "      <td>2</td>\n",
       "      <td>8</td>\n",
       "      <td>8</td>\n",
       "      <td>8</td>\n",
       "      <td>4</td>\n",
       "      <td>1</td>\n",
       "      <td>1</td>\n",
       "      <td>-9</td>\n",
       "      <td>-9</td>\n",
       "      <td>...</td>\n",
       "      <td>-1</td>\n",
       "      <td>-1</td>\n",
       "      <td>-9</td>\n",
       "      <td>-9</td>\n",
       "      <td>-9</td>\n",
       "      <td>-1</td>\n",
       "      <td>94</td>\n",
       "      <td>1</td>\n",
       "      <td>1</td>\n",
       "      <td></td>\n",
       "    </tr>\n",
       "    <tr>\n",
       "      <th>579494</th>\n",
       "      <td>2</td>\n",
       "      <td>1</td>\n",
       "      <td>1</td>\n",
       "      <td>8</td>\n",
       "      <td>8</td>\n",
       "      <td>5</td>\n",
       "      <td>1</td>\n",
       "      <td>2</td>\n",
       "      <td>2</td>\n",
       "      <td>-6</td>\n",
       "      <td>...</td>\n",
       "      <td>-1</td>\n",
       "      <td>-1</td>\n",
       "      <td>2</td>\n",
       "      <td>2</td>\n",
       "      <td>2</td>\n",
       "      <td>-1</td>\n",
       "      <td>94</td>\n",
       "      <td>1</td>\n",
       "      <td>1</td>\n",
       "      <td></td>\n",
       "    </tr>\n",
       "  </tbody>\n",
       "</table>\n",
       "<p>27479 rows × 114 columns</p>\n",
       "</div>"
      ],
      "text/plain": [
       "        ap1  ap2  ap3a  ap3b  ap3c  ap4  ap5a  ap5b  ap5c  ap5d  ...  ap39  \\\n",
       "11        3    1     1     1     1    3     2     2    -9    -9  ...    -1   \n",
       "45        2    1     1     1     1    7     1     2     2     2  ...    -1   \n",
       "61        2    1     1     2     2    4     1     1    -9     1  ...    -1   \n",
       "62        3    1     1     1     1    4     1     1     2     1  ...    -1   \n",
       "63        2    1     1     1     1    6     1     2     2     1  ...    -1   \n",
       "...     ...  ...   ...   ...   ...  ...   ...   ...   ...   ...  ...   ...   \n",
       "579431    2    2     1     1     1    3     1     1     2     1  ...    -1   \n",
       "579432    2    2     1     1     1    3     1     2     2     2  ...    -1   \n",
       "579483    3    2     1     1     1    5     1     1     2     2  ...    -1   \n",
       "579493    2    2     8     8     8    4     1     1    -9    -9  ...    -1   \n",
       "579494    2    1     1     8     8    5     1     2     2    -6  ...    -1   \n",
       "\n",
       "        ap40  ap41a  ap41b  ap41c  ap42  cod_provincia  sector  ambito  \\\n",
       "11        -1      1      1     -9    -1              6       1       1   \n",
       "45        -1      2      2     -9    -1              6       1       1   \n",
       "61        -1      2      2      1    -1              6       1       1   \n",
       "62        -1      2      3      1    -1              6       1       1   \n",
       "63        -1     -9     -9     -9    -1              6       1       1   \n",
       "...      ...    ...    ...    ...   ...            ...     ...     ...   \n",
       "579431    -1      2      3      1    -1             94       1       1   \n",
       "579432    -1      2      4      2    -1             94       1       1   \n",
       "579483    -1      1     -9     -6    -1             94       1       1   \n",
       "579493    -1     -9     -9     -9    -1             94       1       1   \n",
       "579494    -1      2      2      2    -1             94       1       1   \n",
       "\n",
       "        mdesemp  \n",
       "11               \n",
       "45               \n",
       "61               \n",
       "62               \n",
       "63               \n",
       "...         ...  \n",
       "579431           \n",
       "579432           \n",
       "579483           \n",
       "579493           \n",
       "579494           \n",
       "\n",
       "[27479 rows x 114 columns]"
      ]
     },
     "execution_count": 11,
     "metadata": {},
     "output_type": "execute_result"
    }
   ],
   "source": [
    "empty_mask = data1.mdesemp == ' '\n",
    "data1.loc[empty_mask,:]"
   ]
  },
  {
   "cell_type": "code",
   "execution_count": 12,
   "metadata": {},
   "outputs": [],
   "source": [
    "indexNames = data1[empty_mask].index\n",
    "data2 = data1.drop(indexNames)"
   ]
  },
  {
   "cell_type": "code",
   "execution_count": 13,
   "metadata": {},
   "outputs": [
    {
     "name": "stdout",
     "output_type": "stream",
     "text": [
      "3    0.38\n",
      "2    0.23\n",
      "4    0.21\n",
      "1    0.19\n",
      "Name: mdesemp, dtype: float64\n"
     ]
    },
    {
     "data": {
      "image/png": "[encoded data removed]",
      "text/plain": [
       "<Figure size 432x288 with 1 Axes>"
      ]
     },
     "metadata": {
      "needs_background": "light"
     },
     "output_type": "display_data"
    }
   ],
   "source": [
    "print(data2.mdesemp.value_counts(normalize=True, ascending=False).round(2))\n",
    "\n",
    "sns.countplot(data2.mdesemp.sort_values(), label=\"Count\")\n",
    "plt.show()"
   ]
  },
  {
   "cell_type": "markdown",
   "metadata": {},
   "source": [
    "**Podría mejorar el gráfico (agregando labels adentro de la figura que indiquen las proporciones de cada barra)**"
   ]
  },
  {
   "cell_type": "markdown",
   "metadata": {},
   "source": [
    "2) Creamos una muestra para agilizar el tiempo computacional"
   ]
  },
  {
   "cell_type": "code",
   "execution_count": 14,
   "metadata": {},
   "outputs": [
    {
     "name": "stdout",
     "output_type": "stream",
     "text": [
      "Vamos a trabajar con una muestra del 1.0 % del dataset.\n"
     ]
    }
   ],
   "source": [
    "data2_sample = data2.sample(frac=0.01, random_state=2)\n",
    "print('Vamos a trabajar con una muestra del', round(data2_sample.shape[0]/data2.shape[0],2)*100,'% del dataset.')"
   ]
  },
  {
   "cell_type": "code",
   "execution_count": 15,
   "metadata": {},
   "outputs": [
    {
     "data": {
      "text/plain": [
       "(5520, 114)"
      ]
     },
     "execution_count": 15,
     "metadata": {},
     "output_type": "execute_result"
    }
   ],
   "source": [
    "data2_sample.shape"
   ]
  },
  {
   "cell_type": "code",
   "execution_count": 16,
   "metadata": {},
   "outputs": [
    {
     "name": "stdout",
     "output_type": "stream",
     "text": [
      "3    0.39\n",
      "2    0.22\n",
      "4    0.20\n",
      "1    0.19\n",
      "Name: mdesemp, dtype: float64\n"
     ]
    },
    {
     "data": {
      "image/png": "[encoded data removed]",
      "text/plain": [
       "<Figure size 432x288 with 1 Axes>"
      ]
     },
     "metadata": {
      "needs_background": "light"
     },
     "output_type": "display_data"
    }
   ],
   "source": [
    "print(data2_sample.mdesemp.value_counts(normalize=True, ascending=False).round(2))\n",
    "\n",
    "sns.countplot(data2_sample.mdesemp.sort_values(), label=\"Count\")\n",
    "plt.show()"
   ]
  },
  {
   "cell_type": "markdown",
   "metadata": {},
   "source": [
    "Renombramos algunas columnas para facilitar la interpretación del dataset"
   ]
  },
  {
   "cell_type": "code",
   "execution_count": 18,
   "metadata": {},
   "outputs": [],
   "source": [
    "data2_sample = data2_sample.rename(columns={'ap1': 'edad', 'ap2':'sexo', 'ap4':'personasconv', 'ap7a':'internet' ,\n",
    "                            'ap7b':'agua', 'ap7c':'compu', 'ap9':'educmam', 'ap14':'trabajofam', 'ap15':'trabajofuera',\n",
    "                            'ap16':'jardin' , 'ap17':'repetidor', 'ap22':'opmat'})"
   ]
  },
  {
   "cell_type": "markdown",
   "metadata": {},
   "source": [
    "## Pipelines"
   ]
  },
  {
   "cell_type": "code",
   "execution_count": 20,
   "metadata": {},
   "outputs": [],
   "source": [
    "# from sklearn.datasets import load_iris\n",
    "# from sklearn.neighbors import KNeighborsClassifier\n",
    "# from sklearn.model_selection import cross_val_score, train_test_split\n",
    "# from sklearn.model_selection import StratifiedKFold\n",
    "\n",
    "# import warnings\n",
    "# warnings.filterwarnings('ignore')"
   ]
  },
  {
   "cell_type": "markdown",
   "metadata": {},
   "source": [
    "## Pipeline Simple"
   ]
  },
  {
   "cell_type": "code",
   "execution_count": 20,
   "metadata": {},
   "outputs": [],
   "source": [
    "from sklearn.model_selection import train_test_split"
   ]
  },
  {
   "cell_type": "markdown",
   "metadata": {},
   "source": [
    "Armamos la matriz de predictores ($X$) (vamos a seleccionar sólo algunas columnas) y el target ($y$) (que es el nivel de desempeño en Matemática)"
   ]
  },
  {
   "cell_type": "code",
   "execution_count": 19,
   "metadata": {
    "scrolled": true
   },
   "outputs": [],
   "source": [
    "cols=['edad', 'sexo', 'personasconv', 'internet', 'agua', 'compu', 'educmam', 'trabajofam', 'trabajofuera', 'jardin', 'repetidor', 'opmat']\n",
    "X = data2_sample[cols]\n",
    "y = data2_sample['mdesemp']"
   ]
  },
  {
   "cell_type": "markdown",
   "metadata": {},
   "source": [
    "Vamos a separar nuestros datos en aquellos que vamos a usar para el entrenamiento y los que servirán para testear el modelo."
   ]
  },
  {
   "cell_type": "code",
   "execution_count": 21,
   "metadata": {},
   "outputs": [
    {
     "data": {
      "text/plain": [
       "(3864, 12)"
      ]
     },
     "metadata": {},
     "output_type": "display_data"
    },
    {
     "data": {
      "text/plain": [
       "(1656, 12)"
      ]
     },
     "metadata": {},
     "output_type": "display_data"
    },
    {
     "data": {
      "text/plain": [
       "(3864,)"
      ]
     },
     "metadata": {},
     "output_type": "display_data"
    },
    {
     "data": {
      "text/plain": [
       "(1656,)"
      ]
     },
     "metadata": {},
     "output_type": "display_data"
    }
   ],
   "source": [
    "X_train, X_test, y_train, y_test=train_test_split(X,y,test_size=0.3, random_state=30, stratify=y)\n",
    "display(X_train.shape, X_test.shape, y_train.shape, y_test.shape)"
   ]
  },
  {
   "cell_type": "markdown",
   "metadata": {},
   "source": [
    "**0-** Importamos las librerías que vamos a utilizar"
   ]
  },
  {
   "cell_type": "code",
   "execution_count": 22,
   "metadata": {},
   "outputs": [],
   "source": [
    "from sklearn.neighbors import KNeighborsClassifier\n",
    "from sklearn.pipeline import Pipeline\n",
    "from sklearn.preprocessing import OneHotEncoder"
   ]
  },
  {
   "cell_type": "markdown",
   "metadata": {},
   "source": [
    "**1-** Generamos la lista de pasos que le vamos a pasar al `pipeline`. Estos pasos son una lista de tuplas que consisten en el **nombre** y un **transformador** o un **estimador**"
   ]
  },
  {
   "cell_type": "code",
   "execution_count": 77,
   "metadata": {},
   "outputs": [],
   "source": [
    "pasos = [('onehot_encoder', OneHotEncoder(handle_unknown='ignore')), ('knn', KNeighborsClassifier())]"
   ]
  },
  {
   "cell_type": "markdown",
   "metadata": {},
   "source": [
    "Para la clasificación vamos a utilizar como modelo un KNeighborsClassifier con la configuración de hiperparámetros por default. Es importante recordar de normalizar los datos (ONE HOT ENCODER) #MEJORAR ESTE PÁRRAFO\n",
    "\n",
    "Este caso, donde primero tenemos que implementar un escalado de los datos, nos encontramos ante un escenario en donde podemos utilizar `pipeline` para sistematizar el proceso, siguiendo los siguientes pasos: "
   ]
  },
  {
   "cell_type": "markdown",
   "metadata": {},
   "source": [
    "**2-** Instanciamos `pipeline` con los pasos que definimos en el punto anterior:"
   ]
  },
  {
   "cell_type": "code",
   "execution_count": 78,
   "metadata": {},
   "outputs": [],
   "source": [
    "pipe = Pipeline(pasos)"
   ]
  },
  {
   "cell_type": "markdown",
   "metadata": {},
   "source": [
    "Los estimadores que definimos en el pipelinese guardan como una lista en el atributo steps y podemos acceder a ellos de la siguiente manera:"
   ]
  },
  {
   "cell_type": "code",
   "execution_count": 81,
   "metadata": {},
   "outputs": [
    {
     "data": {
      "text/plain": [
       "('onehot_encoder', OneHotEncoder(handle_unknown='ignore'))"
      ]
     },
     "execution_count": 81,
     "metadata": {},
     "output_type": "execute_result"
    }
   ],
   "source": [
    "# Accedemos al ENCODER\n",
    "pipe.steps[0]"
   ]
  },
  {
   "cell_type": "code",
   "execution_count": 80,
   "metadata": {},
   "outputs": [
    {
     "data": {
      "text/plain": [
       "('knn', KNeighborsClassifier())"
      ]
     },
     "execution_count": 80,
     "metadata": {},
     "output_type": "execute_result"
    }
   ],
   "source": [
    "# Accedemos al clasificador\n",
    "pipe.steps[1]"
   ]
  },
  {
   "cell_type": "markdown",
   "metadata": {},
   "source": [
    "La misma información queda guardada en el atributo `named_steps`pero como un diccionario: "
   ]
  },
  {
   "cell_type": "code",
   "execution_count": 82,
   "metadata": {},
   "outputs": [
    {
     "data": {
      "text/plain": [
       "OneHotEncoder(handle_unknown='ignore')"
      ]
     },
     "execution_count": 82,
     "metadata": {},
     "output_type": "execute_result"
    }
   ],
   "source": [
    "pipe.named_steps['onehot_encoder']"
   ]
  },
  {
   "cell_type": "code",
   "execution_count": 83,
   "metadata": {},
   "outputs": [
    {
     "data": {
      "text/plain": [
       "KNeighborsClassifier()"
      ]
     },
     "execution_count": 83,
     "metadata": {},
     "output_type": "execute_result"
    }
   ],
   "source": [
    "pipe.named_steps['knn']"
   ]
  },
  {
   "cell_type": "markdown",
   "metadata": {},
   "source": [
    "**3-** Entrenamos el `pipeline` con los datos de entreanamiento:"
   ]
  },
  {
   "cell_type": "code",
   "execution_count": 84,
   "metadata": {},
   "outputs": [
    {
     "data": {
      "text/plain": [
       "Pipeline(steps=[('onehot_encoder', OneHotEncoder(handle_unknown='ignore')),\n",
       "                ('knn', KNeighborsClassifier())])"
      ]
     },
     "execution_count": 84,
     "metadata": {},
     "output_type": "execute_result"
    }
   ],
   "source": [
    "pipe.fit(X_train,y_train)"
   ]
  },
  {
   "cell_type": "markdown",
   "metadata": {},
   "source": [
    "¿Qué sucedió acá?: Cuando utilizamos el método .fit de pipe sobre los datos de train, primero se ejecutó para estos datos el escalador, siendo que internamente el escalador aplicó el .fit para aprender la media y desvío de la variable, y luego .transform para que lo que aprendió se aplique a los datos y los pase de escala (ACORDEMONOS QUE USAMOS ONE HOT ENCODER). Luego, los datos re-escalados fueron entrenados (.fit) con el KNeighborsClassifier.\n",
    "\n",
    "Es decir, que ahora el objeto pipe va a contar con métodos para que evaluemos nuestro modelo (.predict, y .score)."
   ]
  },
  {
   "cell_type": "markdown",
   "metadata": {},
   "source": [
    "Probemos ahora qué tan bien generaliza el modelo:"
   ]
  },
  {
   "cell_type": "code",
   "execution_count": 85,
   "metadata": {},
   "outputs": [],
   "source": [
    "from sklearn.metrics import accuracy_score"
   ]
  },
  {
   "cell_type": "code",
   "execution_count": 86,
   "metadata": {},
   "outputs": [
    {
     "data": {
      "text/plain": [
       "0.3192771084337349"
      ]
     },
     "execution_count": 86,
     "metadata": {},
     "output_type": "execute_result"
    }
   ],
   "source": [
    "pipe.score(X_test,y_test)"
   ]
  },
  {
   "cell_type": "code",
   "execution_count": 87,
   "metadata": {},
   "outputs": [
    {
     "data": {
      "text/plain": [
       "0.3192771084337349"
      ]
     },
     "execution_count": 87,
     "metadata": {},
     "output_type": "execute_result"
    }
   ],
   "source": [
    "accuracy_score(pipe.predict(X_test),y_test)"
   ]
  },
  {
   "cell_type": "markdown",
   "metadata": {},
   "source": [
    "- A pesar de que nuestro modelo está relativamente balanceado, el **accuracy** nos otorga una medida confiable de cómo está funcionando su generalización."
   ]
  },
  {
   "cell_type": "markdown",
   "metadata": {},
   "source": [
    "Recuerden que: cuando aplicamos el .score o .predict del pipeline entrenado, lo que está sucediendo es que primero se está aplicando el .transform del paso de escalamiento de los datos, y luego se aplica sobre estos datos re-escalados en función de los datos de train, el .score o .predict del clasificador. Es decir que nuevamente con una sóla línea de código se están ejecutando los distintos pasos que definimos"
   ]
  },
  {
   "cell_type": "markdown",
   "metadata": {},
   "source": [
    "## Pipeline + Gridsearch"
   ]
  },
  {
   "cell_type": "markdown",
   "metadata": {},
   "source": [
    "Probemos ahora combinar nuestro `pipeline` con la búsqueda de hiperparámetros del modelo `knn`de classificación.\n",
    "\n",
    "Generamos nuevamente la lista de pasos que le vamos a pasar al `pipeline` y lo instanciamos."
   ]
  },
  {
   "cell_type": "code",
   "execution_count": 90,
   "metadata": {},
   "outputs": [],
   "source": [
    "pasos = [('onehot_encoder', OneHotEncoder(handle_unknown='ignore')), ('knn', KNeighborsClassifier())]"
   ]
  },
  {
   "cell_type": "code",
   "execution_count": 91,
   "metadata": {},
   "outputs": [],
   "source": [
    "pipe_grid = Pipeline(pasos)"
   ]
  },
  {
   "cell_type": "markdown",
   "metadata": {},
   "source": [
    "Ahora, importamos `GridSearchCV` y una clase para definir los kfold del esquema de validación"
   ]
  },
  {
   "cell_type": "code",
   "execution_count": 93,
   "metadata": {},
   "outputs": [],
   "source": [
    "from sklearn.model_selection import GridSearchCV\n",
    "from sklearn.model_selection import StratifiedKFold\n",
    "\n",
    "folds=StratifiedKFold(n_splits=5,shuffle=True, random_state=42)"
   ]
  },
  {
   "cell_type": "markdown",
   "metadata": {},
   "source": [
    "Generamos la grilla de hiperparámetros para explorar cuáles son los mejores para `knn`. Fijensé que la particularidad de esta grilla de parámetros es que su sintaxis es diferente a cuand la hacemos para usar sólo con `GridSearchCV`. \n",
    "\n",
    "En esta ocasión que la estamos combinando con un `pipeline` tenemos que indicar, de alguna manera, a cuál de las estapas del proceso corresponde los hiperparámetros que queremos evaluar (y más adelante vamos a ver que nó sólo de los estimadores vinculados a modelos vamos a poder hacer búsqueda de **hiperparámetros**). \n",
    "\n",
    "Para indicar el paso y el hiperparámetro usamos la siguiente sintaxis: \n",
    "\n",
    "- **nombre_paso__nombre_hiperparámetro**"
   ]
  },
  {
   "cell_type": "code",
   "execution_count": 95,
   "metadata": {},
   "outputs": [],
   "source": [
    "param_grid = {'knn__n_neighbors':range(2,20,2),'knn__weights':['uniform','distance']}"
   ]
  },
  {
   "cell_type": "markdown",
   "metadata": {},
   "source": [
    "Definida la grilla de hiperparámetros, instanciamos el `GridSearchCV` usando `pipe` (donde tenemos instanciado nuestro `pipeline`) y la grilla definida; y luego entrenamos el modelo:"
   ]
  },
  {
   "cell_type": "code",
   "execution_count": 96,
   "metadata": {},
   "outputs": [
    {
     "data": {
      "text/plain": [
       "GridSearchCV(cv=StratifiedKFold(n_splits=5, random_state=42, shuffle=True),\n",
       "             estimator=Pipeline(steps=[('onehot_encoder',\n",
       "                                        OneHotEncoder(handle_unknown='ignore')),\n",
       "                                       ('knn', KNeighborsClassifier())]),\n",
       "             param_grid={'knn__n_neighbors': range(2, 20, 2),\n",
       "                         'knn__weights': ['uniform', 'distance']})"
      ]
     },
     "execution_count": 96,
     "metadata": {},
     "output_type": "execute_result"
    }
   ],
   "source": [
    "grid = GridSearchCV(pipe, param_grid, cv=folds)\n",
    "grid.fit(X_train, y_train)"
   ]
  },
  {
   "cell_type": "markdown",
   "metadata": {},
   "source": [
    "Veamos cómo le fue al mejor modelo:"
   ]
  },
  {
   "cell_type": "code",
   "execution_count": 97,
   "metadata": {},
   "outputs": [
    {
     "data": {
      "text/plain": [
       "0.37056277056277065"
      ]
     },
     "execution_count": 97,
     "metadata": {},
     "output_type": "execute_result"
    }
   ],
   "source": [
    "grid.best_score_"
   ]
  },
  {
   "cell_type": "markdown",
   "metadata": {},
   "source": [
    "Veamos cuál es la mejor configuración"
   ]
  },
  {
   "cell_type": "code",
   "execution_count": 98,
   "metadata": {},
   "outputs": [
    {
     "data": {
      "text/plain": [
       "Pipeline(steps=[('onehot_encoder', OneHotEncoder(handle_unknown='ignore')),\n",
       "                ('knn', KNeighborsClassifier(n_neighbors=10))])"
      ]
     },
     "execution_count": 98,
     "metadata": {},
     "output_type": "execute_result"
    }
   ],
   "source": [
    "grid.best_estimator_"
   ]
  },
  {
   "cell_type": "markdown",
   "metadata": {},
   "source": [
    "Como podemos observar, en `grid.best_estimator_` no sólo está la mejor configuración del modelo, sino que también está configurado el paso previo de preprocesamiento. Así podemos utilizar el método `.predict`y del mismo modo que en el ejemplo simple, cuando lo usemos con los datos de testing, de fondo se ejecutará el método `.transform` del OneHotEncoding y luego el `.predict` del mejor modelo `knn`:"
   ]
  },
  {
   "cell_type": "code",
   "execution_count": 99,
   "metadata": {},
   "outputs": [
    {
     "data": {
      "text/plain": [
       "0.3674698795180723"
      ]
     },
     "execution_count": 99,
     "metadata": {},
     "output_type": "execute_result"
    }
   ],
   "source": [
    "accuracy_score(grid.best_estimator_.predict(X_test),y_test)"
   ]
  }
 ],
 "metadata": {
  "kernelspec": {
   "display_name": "Python 3",
   "language": "python",
   "name": "python3"
  },
  "language_info": {
   "codemirror_mode": {
    "name": "ipython",
    "version": 3
   },
   "file_extension": ".py",
   "mimetype": "text/x-python",
   "name": "python",
   "nbconvert_exporter": "python",
   "pygments_lexer": "ipython3",
   "version": "3.7.7"
  }
 },
 "nbformat": 4,
 "nbformat_minor": 4
}
