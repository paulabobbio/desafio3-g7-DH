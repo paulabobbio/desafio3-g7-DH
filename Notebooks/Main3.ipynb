{
 "cells": [
  {
   "cell_type": "markdown",
   "metadata": {},
   "source": [
    "# Desafío 3 - Grupo 7"
   ]
  },
  {
   "cell_type": "markdown",
   "metadata": {},
   "source": [
    "## Integrantes:\n",
    "\n",
    "- Bobbio, Paula\n",
    "- Sammartino, Virginia\n",
    "- Cocio, Alex Federico\n",
    "- Onno, Olivier"
   ]
  },
  {
   "cell_type": "markdown",
   "metadata": {},
   "source": [
    "## Lectura del dataset"
   ]
  },
  {
   "cell_type": "code",
   "execution_count": 1,
   "metadata": {},
   "outputs": [],
   "source": [
    "import numpy as np\n",
    "import pandas as pd"
   ]
  },
  {
   "cell_type": "code",
   "execution_count": 2,
   "metadata": {},
   "outputs": [
    {
     "name": "stderr",
     "output_type": "stream",
     "text": [
      "C:\\Users\\alexc\\anaconda3\\envs\\dhdsblend\\lib\\site-packages\\IPython\\core\\interactiveshell.py:3146: DtypeWarning: Columns (113) have mixed types.Specify dtype option on import or set low_memory=False.\n",
      "  interactivity=interactivity, compiler=compiler, result=result)\n"
     ]
    }
   ],
   "source": [
    "data = pd.read_csv('../Data/Aprender2018-primaria-6.csv', sep=';')"
   ]
  },
  {
   "cell_type": "markdown",
   "metadata": {},
   "source": [
    "The reason you get this low_memory warning is because guessing dtypes for each column is very memory demanding. Pandas tries to determine what dtype to set by analyzing the data in each column. \n",
    "\n",
    "Fuente: https://stackoverflow.com/questions/24251219/pandas-read-csv-low-memory-and-dtype-options"
   ]
  },
  {
   "cell_type": "code",
   "execution_count": 3,
   "metadata": {},
   "outputs": [
    {
     "data": {
      "text/html": [
       "<div>\n",
       "<style scoped>\n",
       "    .dataframe tbody tr th:only-of-type {\n",
       "        vertical-align: middle;\n",
       "    }\n",
       "\n",
       "    .dataframe tbody tr th {\n",
       "        vertical-align: top;\n",
       "    }\n",
       "\n",
       "    .dataframe thead th {\n",
       "        text-align: right;\n",
       "    }\n",
       "</style>\n",
       "<table border=\"1\" class=\"dataframe\">\n",
       "  <thead>\n",
       "    <tr style=\"text-align: right;\">\n",
       "      <th></th>\n",
       "      <th>ap1</th>\n",
       "      <th>ap2</th>\n",
       "      <th>ap3a</th>\n",
       "      <th>ap3b</th>\n",
       "      <th>ap3c</th>\n",
       "      <th>ap4</th>\n",
       "      <th>ap5a</th>\n",
       "      <th>ap5b</th>\n",
       "      <th>ap5c</th>\n",
       "      <th>ap5d</th>\n",
       "      <th>...</th>\n",
       "      <th>ponder</th>\n",
       "      <th>lpondera</th>\n",
       "      <th>ldesemp</th>\n",
       "      <th>lpuntaje</th>\n",
       "      <th>mpondera</th>\n",
       "      <th>mdesemp</th>\n",
       "      <th>mpuntaje</th>\n",
       "      <th>isocioa</th>\n",
       "      <th>isocioal</th>\n",
       "      <th>isocioam</th>\n",
       "    </tr>\n",
       "  </thead>\n",
       "  <tbody>\n",
       "    <tr>\n",
       "      <th>29964</th>\n",
       "      <td>3</td>\n",
       "      <td>1</td>\n",
       "      <td>1</td>\n",
       "      <td>1</td>\n",
       "      <td>1</td>\n",
       "      <td>4</td>\n",
       "      <td>1</td>\n",
       "      <td>2</td>\n",
       "      <td>2</td>\n",
       "      <td>2</td>\n",
       "      <td>...</td>\n",
       "      <td>1,1597569</td>\n",
       "      <td>1,2943739</td>\n",
       "      <td>4</td>\n",
       "      <td>670,94391</td>\n",
       "      <td>1,229282</td>\n",
       "      <td>3</td>\n",
       "      <td>537,5163</td>\n",
       "      <td>2</td>\n",
       "      <td>2</td>\n",
       "      <td>2</td>\n",
       "    </tr>\n",
       "    <tr>\n",
       "      <th>508805</th>\n",
       "      <td>-9</td>\n",
       "      <td>-9</td>\n",
       "      <td>-9</td>\n",
       "      <td>-9</td>\n",
       "      <td>-9</td>\n",
       "      <td>-9</td>\n",
       "      <td>-9</td>\n",
       "      <td>-9</td>\n",
       "      <td>-9</td>\n",
       "      <td>-9</td>\n",
       "      <td>...</td>\n",
       "      <td>1,0440694</td>\n",
       "      <td></td>\n",
       "      <td></td>\n",
       "      <td></td>\n",
       "      <td></td>\n",
       "      <td></td>\n",
       "      <td></td>\n",
       "      <td>-1</td>\n",
       "      <td>-1</td>\n",
       "      <td>-1</td>\n",
       "    </tr>\n",
       "    <tr>\n",
       "      <th>548074</th>\n",
       "      <td>2</td>\n",
       "      <td>1</td>\n",
       "      <td>1</td>\n",
       "      <td>1</td>\n",
       "      <td>1</td>\n",
       "      <td>4</td>\n",
       "      <td>1</td>\n",
       "      <td>1</td>\n",
       "      <td>-9</td>\n",
       "      <td>1</td>\n",
       "      <td>...</td>\n",
       "      <td>1,2941245</td>\n",
       "      <td>1,2217257</td>\n",
       "      <td>3</td>\n",
       "      <td>510,23138</td>\n",
       "      <td>1,3743259</td>\n",
       "      <td>1</td>\n",
       "      <td>376,95645</td>\n",
       "      <td>2</td>\n",
       "      <td>2</td>\n",
       "      <td>2</td>\n",
       "    </tr>\n",
       "    <tr>\n",
       "      <th>514605</th>\n",
       "      <td>3</td>\n",
       "      <td>2</td>\n",
       "      <td>1</td>\n",
       "      <td>1</td>\n",
       "      <td>1</td>\n",
       "      <td>5</td>\n",
       "      <td>1</td>\n",
       "      <td>-9</td>\n",
       "      <td>-9</td>\n",
       "      <td>-9</td>\n",
       "      <td>...</td>\n",
       "      <td>1,1408101</td>\n",
       "      <td>1,198115</td>\n",
       "      <td>4</td>\n",
       "      <td>571,47937</td>\n",
       "      <td>1,2583444</td>\n",
       "      <td>2</td>\n",
       "      <td>408,00464</td>\n",
       "      <td>1</td>\n",
       "      <td>1</td>\n",
       "      <td>1</td>\n",
       "    </tr>\n",
       "    <tr>\n",
       "      <th>184868</th>\n",
       "      <td>-9</td>\n",
       "      <td>-9</td>\n",
       "      <td>-9</td>\n",
       "      <td>1</td>\n",
       "      <td>-9</td>\n",
       "      <td>7</td>\n",
       "      <td>1</td>\n",
       "      <td>-9</td>\n",
       "      <td>-9</td>\n",
       "      <td>-9</td>\n",
       "      <td>...</td>\n",
       "      <td>3,5976689</td>\n",
       "      <td></td>\n",
       "      <td></td>\n",
       "      <td></td>\n",
       "      <td></td>\n",
       "      <td></td>\n",
       "      <td></td>\n",
       "      <td>-1</td>\n",
       "      <td>-1</td>\n",
       "      <td>-1</td>\n",
       "    </tr>\n",
       "  </tbody>\n",
       "</table>\n",
       "<p>5 rows × 124 columns</p>\n",
       "</div>"
      ],
      "text/plain": [
       "        ap1  ap2  ap3a  ap3b  ap3c  ap4  ap5a  ap5b  ap5c  ap5d  ...  \\\n",
       "29964     3    1     1     1     1    4     1     2     2     2  ...   \n",
       "508805   -9   -9    -9    -9    -9   -9    -9    -9    -9    -9  ...   \n",
       "548074    2    1     1     1     1    4     1     1    -9     1  ...   \n",
       "514605    3    2     1     1     1    5     1    -9    -9    -9  ...   \n",
       "184868   -9   -9    -9     1    -9    7     1    -9    -9    -9  ...   \n",
       "\n",
       "           ponder   lpondera  ldesemp   lpuntaje   mpondera  mdesemp  \\\n",
       "29964   1,1597569  1,2943739        4  670,94391   1,229282        3   \n",
       "508805  1,0440694                                                      \n",
       "548074  1,2941245  1,2217257        3  510,23138  1,3743259        1   \n",
       "514605  1,1408101   1,198115        4  571,47937  1,2583444        2   \n",
       "184868  3,5976689                                                      \n",
       "\n",
       "         mpuntaje  isocioa  isocioal  isocioam  \n",
       "29964    537,5163        2         2         2  \n",
       "508805                  -1        -1        -1  \n",
       "548074  376,95645        2         2         2  \n",
       "514605  408,00464        1         1         1  \n",
       "184868                  -1        -1        -1  \n",
       "\n",
       "[5 rows x 124 columns]"
      ]
     },
     "execution_count": 3,
     "metadata": {},
     "output_type": "execute_result"
    }
   ],
   "source": [
    "data.sample(5)"
   ]
  },
  {
   "cell_type": "markdown",
   "metadata": {},
   "source": [
    "## Feature Selection"
   ]
  },
  {
   "cell_type": "markdown",
   "metadata": {},
   "source": [
    "Descartamos manualmente las variables que consideramos redundantes para el problema. Estas son:\n",
    "- Indice del Contexto Social de la Educación\n",
    "- Factor de expansión (solo para variable cuestionario complementario)\n",
    "- Factor de expansión prueba de Lengua\n",
    "- Puntaje en Lengua\n",
    "- Factor de expansión prueba de Matemática\n",
    "- Puntaje en Matemática\n",
    "- Indice socioeconómico del alumno\n",
    "- Indice socioeconómico del alumno ponderador Lengua\n",
    "- Indice socioeconómico del alumno ponderador Matemática\n",
    "\n",
    "- Desempeño en Lengua\n"
   ]
  },
  {
   "cell_type": "code",
   "execution_count": 4,
   "metadata": {},
   "outputs": [
    {
     "name": "stdout",
     "output_type": "stream",
     "text": [
      "Eliminamos 10 columnas.\n"
     ]
    }
   ],
   "source": [
    "columns_to_drop = ['ICSE','ponder','lpondera','lpuntaje','mpondera','mpuntaje','isocioa','isocioal','isocioam', 'ldesemp']\n",
    "data1 = data.drop(columns_to_drop, axis=1)\n",
    "print('Eliminamos', data.shape[1]-data1.shape[1], 'columnas.')"
   ]
  },
  {
   "cell_type": "markdown",
   "metadata": {},
   "source": [
    "# Analizamos algunas características del dataset"
   ]
  },
  {
   "cell_type": "code",
   "execution_count": 5,
   "metadata": {
    "scrolled": true
   },
   "outputs": [
    {
     "name": "stdout",
     "output_type": "stream",
     "text": [
      "<class 'pandas.core.frame.DataFrame'>\n",
      "RangeIndex: 579510 entries, 0 to 579509\n",
      "Columns: 114 entries, ap1 to mdesemp\n",
      "dtypes: int64(113), object(1)\n",
      "memory usage: 504.0+ MB\n"
     ]
    }
   ],
   "source": [
    "# ¿Cuántas observaciones hay en la tabla?\n",
    "data1.info()"
   ]
  },
  {
   "cell_type": "code",
   "execution_count": 6,
   "metadata": {},
   "outputs": [
    {
     "name": "stdout",
     "output_type": "stream",
     "text": [
      "El dataset tiene 579510 filas y 114 columnas.\n"
     ]
    }
   ],
   "source": [
    "# Dimensión del dataframe\n",
    "print('El dataset tiene', data1.shape[0], 'filas y', data1.shape[1], 'columnas.') "
   ]
  },
  {
   "cell_type": "code",
   "execution_count": 7,
   "metadata": {},
   "outputs": [
    {
     "data": {
      "text/plain": [
       "int64     113\n",
       "object      1\n",
       "dtype: int64"
      ]
     },
     "execution_count": 7,
     "metadata": {},
     "output_type": "execute_result"
    }
   ],
   "source": [
    "# ¿Qué tipo de datos tiene?\n",
    "data1.dtypes.value_counts()"
   ]
  },
  {
   "cell_type": "code",
   "execution_count": 8,
   "metadata": {},
   "outputs": [
    {
     "name": "stdout",
     "output_type": "stream",
     "text": [
      "Datos faltantes: 0\n"
     ]
    }
   ],
   "source": [
    "# ¿Hay datos faltantes?\n",
    "print('Datos faltantes:', data1.isnull().any(axis=1).sum())"
   ]
  },
  {
   "cell_type": "code",
   "execution_count": 9,
   "metadata": {},
   "outputs": [
    {
     "data": {
      "text/plain": [
       "3    0.37\n",
       "2    0.21\n",
       "4    0.20\n",
       "1    0.18\n",
       "     0.05\n",
       "Name: mdesemp, dtype: float64"
      ]
     },
     "execution_count": 9,
     "metadata": {},
     "output_type": "execute_result"
    }
   ],
   "source": [
    "# ¿Están balanceados los datos de la variable target?\n",
    "data1.mdesemp.value_counts(normalize=True, ascending=False).round(2)"
   ]
  },
  {
   "cell_type": "code",
   "execution_count": 10,
   "metadata": {},
   "outputs": [
    {
     "data": {
      "image/png": "[encoded data removed]",
      "text/plain": [
       "<Figure size 432x288 with 1 Axes>"
      ]
     },
     "metadata": {
      "needs_background": "light"
     },
     "output_type": "display_data"
    }
   ],
   "source": [
    "import seaborn as sns\n",
    "import matplotlib.pyplot as plt\n",
    "%matplotlib inline\n",
    "\n",
    "sns.countplot(data1.mdesemp.sort_values(), label=\"Count\")\n",
    "plt.show()"
   ]
  },
  {
   "cell_type": "markdown",
   "metadata": {},
   "source": [
    "## Algunas consideraciones"
   ]
  },
  {
   "cell_type": "markdown",
   "metadata": {},
   "source": [
    "1) Elimino las filas que no especifica ningún valor en la columna target"
   ]
  },
  {
   "cell_type": "code",
   "execution_count": 11,
   "metadata": {},
   "outputs": [
    {
     "data": {
      "text/html": [
       "<div>\n",
       "<style scoped>\n",
       "    .dataframe tbody tr th:only-of-type {\n",
       "        vertical-align: middle;\n",
       "    }\n",
       "\n",
       "    .dataframe tbody tr th {\n",
       "        vertical-align: top;\n",
       "    }\n",
       "\n",
       "    .dataframe thead th {\n",
       "        text-align: right;\n",
       "    }\n",
       "</style>\n",
       "<table border=\"1\" class=\"dataframe\">\n",
       "  <thead>\n",
       "    <tr style=\"text-align: right;\">\n",
       "      <th></th>\n",
       "      <th>ap1</th>\n",
       "      <th>ap2</th>\n",
       "      <th>ap3a</th>\n",
       "      <th>ap3b</th>\n",
       "      <th>ap3c</th>\n",
       "      <th>ap4</th>\n",
       "      <th>ap5a</th>\n",
       "      <th>ap5b</th>\n",
       "      <th>ap5c</th>\n",
       "      <th>ap5d</th>\n",
       "      <th>...</th>\n",
       "      <th>ap39</th>\n",
       "      <th>ap40</th>\n",
       "      <th>ap41a</th>\n",
       "      <th>ap41b</th>\n",
       "      <th>ap41c</th>\n",
       "      <th>ap42</th>\n",
       "      <th>cod_provincia</th>\n",
       "      <th>sector</th>\n",
       "      <th>ambito</th>\n",
       "      <th>mdesemp</th>\n",
       "    </tr>\n",
       "  </thead>\n",
       "  <tbody>\n",
       "    <tr>\n",
       "      <th>11</th>\n",
       "      <td>3</td>\n",
       "      <td>1</td>\n",
       "      <td>1</td>\n",
       "      <td>1</td>\n",
       "      <td>1</td>\n",
       "      <td>3</td>\n",
       "      <td>2</td>\n",
       "      <td>2</td>\n",
       "      <td>-9</td>\n",
       "      <td>-9</td>\n",
       "      <td>...</td>\n",
       "      <td>-1</td>\n",
       "      <td>-1</td>\n",
       "      <td>1</td>\n",
       "      <td>1</td>\n",
       "      <td>-9</td>\n",
       "      <td>-1</td>\n",
       "      <td>6</td>\n",
       "      <td>1</td>\n",
       "      <td>1</td>\n",
       "      <td></td>\n",
       "    </tr>\n",
       "    <tr>\n",
       "      <th>45</th>\n",
       "      <td>2</td>\n",
       "      <td>1</td>\n",
       "      <td>1</td>\n",
       "      <td>1</td>\n",
       "      <td>1</td>\n",
       "      <td>7</td>\n",
       "      <td>1</td>\n",
       "      <td>2</td>\n",
       "      <td>2</td>\n",
       "      <td>2</td>\n",
       "      <td>...</td>\n",
       "      <td>-1</td>\n",
       "      <td>-1</td>\n",
       "      <td>2</td>\n",
       "      <td>2</td>\n",
       "      <td>-9</td>\n",
       "      <td>-1</td>\n",
       "      <td>6</td>\n",
       "      <td>1</td>\n",
       "      <td>1</td>\n",
       "      <td></td>\n",
       "    </tr>\n",
       "    <tr>\n",
       "      <th>61</th>\n",
       "      <td>2</td>\n",
       "      <td>1</td>\n",
       "      <td>1</td>\n",
       "      <td>2</td>\n",
       "      <td>2</td>\n",
       "      <td>4</td>\n",
       "      <td>1</td>\n",
       "      <td>1</td>\n",
       "      <td>-9</td>\n",
       "      <td>1</td>\n",
       "      <td>...</td>\n",
       "      <td>-1</td>\n",
       "      <td>-1</td>\n",
       "      <td>2</td>\n",
       "      <td>2</td>\n",
       "      <td>1</td>\n",
       "      <td>-1</td>\n",
       "      <td>6</td>\n",
       "      <td>1</td>\n",
       "      <td>1</td>\n",
       "      <td></td>\n",
       "    </tr>\n",
       "    <tr>\n",
       "      <th>62</th>\n",
       "      <td>3</td>\n",
       "      <td>1</td>\n",
       "      <td>1</td>\n",
       "      <td>1</td>\n",
       "      <td>1</td>\n",
       "      <td>4</td>\n",
       "      <td>1</td>\n",
       "      <td>1</td>\n",
       "      <td>2</td>\n",
       "      <td>1</td>\n",
       "      <td>...</td>\n",
       "      <td>-1</td>\n",
       "      <td>-1</td>\n",
       "      <td>2</td>\n",
       "      <td>3</td>\n",
       "      <td>1</td>\n",
       "      <td>-1</td>\n",
       "      <td>6</td>\n",
       "      <td>1</td>\n",
       "      <td>1</td>\n",
       "      <td></td>\n",
       "    </tr>\n",
       "    <tr>\n",
       "      <th>63</th>\n",
       "      <td>2</td>\n",
       "      <td>1</td>\n",
       "      <td>1</td>\n",
       "      <td>1</td>\n",
       "      <td>1</td>\n",
       "      <td>6</td>\n",
       "      <td>1</td>\n",
       "      <td>2</td>\n",
       "      <td>2</td>\n",
       "      <td>1</td>\n",
       "      <td>...</td>\n",
       "      <td>-1</td>\n",
       "      <td>-1</td>\n",
       "      <td>-9</td>\n",
       "      <td>-9</td>\n",
       "      <td>-9</td>\n",
       "      <td>-1</td>\n",
       "      <td>6</td>\n",
       "      <td>1</td>\n",
       "      <td>1</td>\n",
       "      <td></td>\n",
       "    </tr>\n",
       "    <tr>\n",
       "      <th>...</th>\n",
       "      <td>...</td>\n",
       "      <td>...</td>\n",
       "      <td>...</td>\n",
       "      <td>...</td>\n",
       "      <td>...</td>\n",
       "      <td>...</td>\n",
       "      <td>...</td>\n",
       "      <td>...</td>\n",
       "      <td>...</td>\n",
       "      <td>...</td>\n",
       "      <td>...</td>\n",
       "      <td>...</td>\n",
       "      <td>...</td>\n",
       "      <td>...</td>\n",
       "      <td>...</td>\n",
       "      <td>...</td>\n",
       "      <td>...</td>\n",
       "      <td>...</td>\n",
       "      <td>...</td>\n",
       "      <td>...</td>\n",
       "      <td>...</td>\n",
       "    </tr>\n",
       "    <tr>\n",
       "      <th>579431</th>\n",
       "      <td>2</td>\n",
       "      <td>2</td>\n",
       "      <td>1</td>\n",
       "      <td>1</td>\n",
       "      <td>1</td>\n",
       "      <td>3</td>\n",
       "      <td>1</td>\n",
       "      <td>1</td>\n",
       "      <td>2</td>\n",
       "      <td>1</td>\n",
       "      <td>...</td>\n",
       "      <td>-1</td>\n",
       "      <td>-1</td>\n",
       "      <td>2</td>\n",
       "      <td>3</td>\n",
       "      <td>1</td>\n",
       "      <td>-1</td>\n",
       "      <td>94</td>\n",
       "      <td>1</td>\n",
       "      <td>1</td>\n",
       "      <td></td>\n",
       "    </tr>\n",
       "    <tr>\n",
       "      <th>579432</th>\n",
       "      <td>2</td>\n",
       "      <td>2</td>\n",
       "      <td>1</td>\n",
       "      <td>1</td>\n",
       "      <td>1</td>\n",
       "      <td>3</td>\n",
       "      <td>1</td>\n",
       "      <td>2</td>\n",
       "      <td>2</td>\n",
       "      <td>2</td>\n",
       "      <td>...</td>\n",
       "      <td>-1</td>\n",
       "      <td>-1</td>\n",
       "      <td>2</td>\n",
       "      <td>4</td>\n",
       "      <td>2</td>\n",
       "      <td>-1</td>\n",
       "      <td>94</td>\n",
       "      <td>1</td>\n",
       "      <td>1</td>\n",
       "      <td></td>\n",
       "    </tr>\n",
       "    <tr>\n",
       "      <th>579483</th>\n",
       "      <td>3</td>\n",
       "      <td>2</td>\n",
       "      <td>1</td>\n",
       "      <td>1</td>\n",
       "      <td>1</td>\n",
       "      <td>5</td>\n",
       "      <td>1</td>\n",
       "      <td>1</td>\n",
       "      <td>2</td>\n",
       "      <td>2</td>\n",
       "      <td>...</td>\n",
       "      <td>-1</td>\n",
       "      <td>-1</td>\n",
       "      <td>1</td>\n",
       "      <td>-9</td>\n",
       "      <td>-6</td>\n",
       "      <td>-1</td>\n",
       "      <td>94</td>\n",
       "      <td>1</td>\n",
       "      <td>1</td>\n",
       "      <td></td>\n",
       "    </tr>\n",
       "    <tr>\n",
       "      <th>579493</th>\n",
       "      <td>2</td>\n",
       "      <td>2</td>\n",
       "      <td>8</td>\n",
       "      <td>8</td>\n",
       "      <td>8</td>\n",
       "      <td>4</td>\n",
       "      <td>1</td>\n",
       "      <td>1</td>\n",
       "      <td>-9</td>\n",
       "      <td>-9</td>\n",
       "      <td>...</td>\n",
       "      <td>-1</td>\n",
       "      <td>-1</td>\n",
       "      <td>-9</td>\n",
       "      <td>-9</td>\n",
       "      <td>-9</td>\n",
       "      <td>-1</td>\n",
       "      <td>94</td>\n",
       "      <td>1</td>\n",
       "      <td>1</td>\n",
       "      <td></td>\n",
       "    </tr>\n",
       "    <tr>\n",
       "      <th>579494</th>\n",
       "      <td>2</td>\n",
       "      <td>1</td>\n",
       "      <td>1</td>\n",
       "      <td>8</td>\n",
       "      <td>8</td>\n",
       "      <td>5</td>\n",
       "      <td>1</td>\n",
       "      <td>2</td>\n",
       "      <td>2</td>\n",
       "      <td>-6</td>\n",
       "      <td>...</td>\n",
       "      <td>-1</td>\n",
       "      <td>-1</td>\n",
       "      <td>2</td>\n",
       "      <td>2</td>\n",
       "      <td>2</td>\n",
       "      <td>-1</td>\n",
       "      <td>94</td>\n",
       "      <td>1</td>\n",
       "      <td>1</td>\n",
       "      <td></td>\n",
       "    </tr>\n",
       "  </tbody>\n",
       "</table>\n",
       "<p>27479 rows × 114 columns</p>\n",
       "</div>"
      ],
      "text/plain": [
       "        ap1  ap2  ap3a  ap3b  ap3c  ap4  ap5a  ap5b  ap5c  ap5d  ...  ap39  \\\n",
       "11        3    1     1     1     1    3     2     2    -9    -9  ...    -1   \n",
       "45        2    1     1     1     1    7     1     2     2     2  ...    -1   \n",
       "61        2    1     1     2     2    4     1     1    -9     1  ...    -1   \n",
       "62        3    1     1     1     1    4     1     1     2     1  ...    -1   \n",
       "63        2    1     1     1     1    6     1     2     2     1  ...    -1   \n",
       "...     ...  ...   ...   ...   ...  ...   ...   ...   ...   ...  ...   ...   \n",
       "579431    2    2     1     1     1    3     1     1     2     1  ...    -1   \n",
       "579432    2    2     1     1     1    3     1     2     2     2  ...    -1   \n",
       "579483    3    2     1     1     1    5     1     1     2     2  ...    -1   \n",
       "579493    2    2     8     8     8    4     1     1    -9    -9  ...    -1   \n",
       "579494    2    1     1     8     8    5     1     2     2    -6  ...    -1   \n",
       "\n",
       "        ap40  ap41a  ap41b  ap41c  ap42  cod_provincia  sector  ambito  \\\n",
       "11        -1      1      1     -9    -1              6       1       1   \n",
       "45        -1      2      2     -9    -1              6       1       1   \n",
       "61        -1      2      2      1    -1              6       1       1   \n",
       "62        -1      2      3      1    -1              6       1       1   \n",
       "63        -1     -9     -9     -9    -1              6       1       1   \n",
       "...      ...    ...    ...    ...   ...            ...     ...     ...   \n",
       "579431    -1      2      3      1    -1             94       1       1   \n",
       "579432    -1      2      4      2    -1             94       1       1   \n",
       "579483    -1      1     -9     -6    -1             94       1       1   \n",
       "579493    -1     -9     -9     -9    -1             94       1       1   \n",
       "579494    -1      2      2      2    -1             94       1       1   \n",
       "\n",
       "        mdesemp  \n",
       "11               \n",
       "45               \n",
       "61               \n",
       "62               \n",
       "63               \n",
       "...         ...  \n",
       "579431           \n",
       "579432           \n",
       "579483           \n",
       "579493           \n",
       "579494           \n",
       "\n",
       "[27479 rows x 114 columns]"
      ]
     },
     "execution_count": 11,
     "metadata": {},
     "output_type": "execute_result"
    }
   ],
   "source": [
    "empty_mask = data1.mdesemp == ' '\n",
    "data1.loc[empty_mask,:]"
   ]
  },
  {
   "cell_type": "code",
   "execution_count": 12,
   "metadata": {},
   "outputs": [],
   "source": [
    "indexNames = data1[empty_mask].index\n",
    "data2 = data1.drop(indexNames)"
   ]
  },
  {
   "cell_type": "code",
   "execution_count": 13,
   "metadata": {},
   "outputs": [
    {
     "name": "stdout",
     "output_type": "stream",
     "text": [
      "3    0.38\n",
      "2    0.23\n",
      "4    0.21\n",
      "1    0.19\n",
      "Name: mdesemp, dtype: float64\n"
     ]
    },
    {
     "data": {
      "image/png": "[encoded data removed]",
      "text/plain": [
       "<Figure size 432x288 with 1 Axes>"
      ]
     },
     "metadata": {
      "needs_background": "light"
     },
     "output_type": "display_data"
    }
   ],
   "source": [
    "print(data2.mdesemp.value_counts(normalize=True, ascending=False).round(2))\n",
    "\n",
    "sns.countplot(data2.mdesemp.sort_values(), label=\"Count\")\n",
    "plt.show()"
   ]
  },
  {
   "cell_type": "markdown",
   "metadata": {},
   "source": [
    "2) Creamos una muestra para agilizar el tiempo computacional"
   ]
  },
  {
   "cell_type": "code",
   "execution_count": 36,
   "metadata": {},
   "outputs": [
    {
     "name": "stdout",
     "output_type": "stream",
     "text": [
      "Vamos a trabajar con una muestra del 0.5 % del dataset.\n"
     ]
    }
   ],
   "source": [
    "data2_sample = data2.sample(frac=0.005, random_state=2)\n",
    "print('Vamos a trabajar con una muestra del', round(data2_sample.shape[0]/data2.shape[0],4)*100,'% del dataset.')"
   ]
  },
  {
   "cell_type": "code",
   "execution_count": 15,
   "metadata": {},
   "outputs": [
    {
     "data": {
      "text/plain": [
       "(2760, 114)"
      ]
     },
     "execution_count": 15,
     "metadata": {},
     "output_type": "execute_result"
    }
   ],
   "source": [
    "data2_sample.shape"
   ]
  },
  {
   "cell_type": "code",
   "execution_count": 16,
   "metadata": {},
   "outputs": [
    {
     "name": "stdout",
     "output_type": "stream",
     "text": [
      "3    0.39\n",
      "2    0.22\n",
      "4    0.21\n",
      "1    0.18\n",
      "Name: mdesemp, dtype: float64\n"
     ]
    },
    {
     "data": {
      "image/png": "[encoded data removed]",
      "text/plain": [
       "<Figure size 432x288 with 1 Axes>"
      ]
     },
     "metadata": {
      "needs_background": "light"
     },
     "output_type": "display_data"
    }
   ],
   "source": [
    "print(data2_sample.mdesemp.value_counts(normalize=True, ascending=False).round(2))\n",
    "\n",
    "sns.countplot(data2_sample.mdesemp.sort_values(), label=\"Count\")\n",
    "plt.show()"
   ]
  },
  {
   "cell_type": "markdown",
   "metadata": {},
   "source": [
    "Renombramos algunas columnas para facilitar la interpretación del dataset"
   ]
  },
  {
   "cell_type": "code",
   "execution_count": 17,
   "metadata": {},
   "outputs": [],
   "source": [
    "data2_sample = data2_sample.rename(columns={'ap1': 'edad', 'ap2':'sexo', 'ap4':'personasconv', 'ap7a':'internet' ,\n",
    "                            'ap7b':'agua', 'ap7c':'compu', 'ap9':'educmam', 'ap14':'trabajofam', 'ap15':'trabajofuera',\n",
    "                            'ap16':'jardin' , 'ap17':'repetidor', 'ap22':'opmat'})"
   ]
  },
  {
   "cell_type": "markdown",
   "metadata": {},
   "source": [
    "### Preprocesamiento de datos"
   ]
  },
  {
   "cell_type": "markdown",
   "metadata": {},
   "source": [
    "Armamos la matriz de predictores ($X$) (vamos a seleccionar sólo algunas columnas) y el target ($y$) (que es el nivel de desempeño en Matemática)"
   ]
  },
  {
   "cell_type": "code",
   "execution_count": 18,
   "metadata": {
    "scrolled": true
   },
   "outputs": [],
   "source": [
    "cols=['edad', 'sexo', 'personasconv', 'internet', 'agua', 'compu', 'educmam', 'trabajofam', 'trabajofuera', 'jardin', 'repetidor', 'opmat']\n",
    "X = data2_sample[cols]\n",
    "y = data2_sample['mdesemp']"
   ]
  },
  {
   "cell_type": "markdown",
   "metadata": {},
   "source": [
    "¿Hace falta estandarizar en este caso? Los features están en las mismas unidades pero las escalas podrían ser distintas"
   ]
  },
  {
   "cell_type": "code",
   "execution_count": 19,
   "metadata": {},
   "outputs": [],
   "source": [
    "from sklearn.preprocessing import OneHotEncoder"
   ]
  },
  {
   "cell_type": "code",
   "execution_count": 20,
   "metadata": {},
   "outputs": [],
   "source": [
    "def estandarizar_feature(a):\n",
    "    onehot_encoder = OneHotEncoder(drop='first')\n",
    "    # fiteo y transformo la columna \"nombre_de_feature\"\n",
    "    dummy_oneHot_correct = onehot_encoder.fit_transform(data2_sample[[a]])\n",
    "    #pongo un vector en un dataset\n",
    "    dummy_oneHot_correct = pd.DataFrame(dummy_oneHot_correct.toarray())\n",
    "\n",
    "    return"
   ]
  },
  {
   "cell_type": "code",
   "execution_count": 21,
   "metadata": {},
   "outputs": [],
   "source": [
    "estandarizar_feature('edad')\n",
    "estandarizar_feature('sexo')\n",
    "estandarizar_feature('personasconv')\n",
    "estandarizar_feature('internet')\n",
    "estandarizar_feature('agua')\n",
    "estandarizar_feature('compu')\n",
    "estandarizar_feature('educmam')\n",
    "estandarizar_feature('trabajofam')\n",
    "estandarizar_feature('trabajofuera')\n",
    "estandarizar_feature('jardin')\n",
    "estandarizar_feature('repetidor')\n",
    "estandarizar_feature('opmat')"
   ]
  },
  {
   "cell_type": "markdown",
   "metadata": {},
   "source": [
    "Como la codificación **\"One-Hot-Enconding\" induce una multicolinealidad perfecta**, eliminamos una de las columnas de las características codificadas"
   ]
  },
  {
   "cell_type": "markdown",
   "metadata": {},
   "source": [
    "Utilizaremos la variable \"mdesemp\" para generar una variable derivada que tenga en cuenta que es mejor si el desempeño es \"satsifactorio\". Con esto podemos generar por ejemplo una variable categórica que puede ser utilizada como vector \"objetivo\" en un problema de clasificación."
   ]
  },
  {
   "cell_type": "code",
   "execution_count": 22,
   "metadata": {},
   "outputs": [],
   "source": [
    "from sklearn.preprocessing import LabelEncoder\n",
    "le = LabelEncoder()\n",
    "y=le.fit_transform(data2_sample['mdesemp'])"
   ]
  },
  {
   "cell_type": "code",
   "execution_count": 23,
   "metadata": {},
   "outputs": [],
   "source": [
    "from sklearn.model_selection import train_test_split\n",
    "from sklearn.pipeline import Pipeline\n",
    "from sklearn.neighbors import KNeighborsClassifier\n",
    "from sklearn.naive_bayes import GaussianNB\n",
    "from sklearn.linear_model import LogisticRegression"
   ]
  },
  {
   "cell_type": "code",
   "execution_count": 24,
   "metadata": {},
   "outputs": [
    {
     "data": {
      "text/plain": [
       "(1932, 12)"
      ]
     },
     "metadata": {},
     "output_type": "display_data"
    },
    {
     "data": {
      "text/plain": [
       "(828, 12)"
      ]
     },
     "metadata": {},
     "output_type": "display_data"
    },
    {
     "data": {
      "text/plain": [
       "(1932,)"
      ]
     },
     "metadata": {},
     "output_type": "display_data"
    },
    {
     "data": {
      "text/plain": [
       "(828,)"
      ]
     },
     "metadata": {},
     "output_type": "display_data"
    }
   ],
   "source": [
    "X_train, X_test, y_train, y_test=train_test_split(X,y,test_size=0.3, random_state=30, stratify=y)\n",
    "display(X_train.shape, X_test.shape, y_train.shape, y_test.shape)"
   ]
  },
  {
   "cell_type": "markdown",
   "metadata": {},
   "source": [
    "### Naive - Bayes"
   ]
  },
  {
   "cell_type": "code",
   "execution_count": 25,
   "metadata": {},
   "outputs": [],
   "source": [
    "from sklearn.naive_bayes import GaussianNB\n",
    "from sklearn.metrics import accuracy_score"
   ]
  },
  {
   "cell_type": "code",
   "execution_count": 26,
   "metadata": {},
   "outputs": [
    {
     "data": {
      "text/plain": [
       "GaussianNB()"
      ]
     },
     "execution_count": 26,
     "metadata": {},
     "output_type": "execute_result"
    }
   ],
   "source": [
    "gnb = GaussianNB()\n",
    "gnb.fit(X_train, y_train)"
   ]
  },
  {
   "cell_type": "code",
   "execution_count": 27,
   "metadata": {},
   "outputs": [
    {
     "data": {
      "text/plain": [
       "array([3, 0, 0, 3, 3, 3, 3, 3, 3, 3, 0, 3, 3, 3, 3, 3, 3, 3, 3, 3, 3, 3,\n",
       "       1, 3, 3, 3, 3, 3, 0, 3, 1, 3, 3, 3, 3, 3, 3, 3, 3, 3, 3, 3, 0, 3,\n",
       "       3, 0, 3, 3, 3, 3, 0, 3, 3, 3, 1, 3, 3, 0, 0, 0, 0, 3, 1, 3, 3, 3,\n",
       "       1, 3, 3, 3, 1, 3, 2, 3, 3, 3, 1, 3, 3, 0, 0, 3, 3, 3, 0, 3, 0, 3,\n",
       "       3, 3, 3, 3, 3, 3, 3, 3, 3, 3, 3, 0, 3, 0, 3, 3, 3, 3, 1, 3, 3, 3,\n",
       "       1, 3, 3, 3, 2, 3, 3, 3, 3, 0, 3, 3, 3, 3, 3, 3, 3, 3, 3, 3, 3, 3,\n",
       "       3, 3, 3, 3, 3, 3, 3, 3, 3, 3, 3, 1, 3, 3, 0, 3, 3, 0, 1, 3, 3, 3,\n",
       "       3, 3, 1, 3, 3, 3, 3, 3, 3, 3, 3, 3, 3, 3, 3, 0, 3, 3, 3, 3, 3, 3,\n",
       "       1, 0, 0, 2, 3, 3, 3, 0, 3, 3, 3, 1, 3, 3, 3, 3, 3, 0, 3, 3, 3, 3,\n",
       "       3, 3, 0, 3, 2, 3, 1, 3, 1, 3, 3, 3, 0, 3, 3, 0, 3, 3, 3, 3, 1, 3,\n",
       "       0, 1, 3, 0, 2, 3, 3, 1, 3, 3, 3, 3, 3, 1, 3, 3, 0, 3, 3, 3, 0, 3,\n",
       "       3, 0, 3, 3, 3, 1, 1, 1, 3, 3, 3, 3, 3, 3, 3, 3, 3, 3, 3, 1, 3, 3,\n",
       "       3, 3, 3, 1, 3, 3, 3, 3, 3, 3, 3, 0, 1, 1, 3, 3, 3, 3, 3, 3, 3, 0,\n",
       "       3, 3, 3, 1, 1, 3, 0, 1, 3, 3, 1, 2, 3, 0, 3, 1, 1, 3, 3, 3, 3, 3,\n",
       "       3, 3, 3, 3, 3, 3, 1, 3, 3, 3, 3, 3, 3, 3, 3, 3, 2, 0, 0, 3, 3, 3,\n",
       "       2, 3, 0, 0, 3, 3, 3, 3, 1, 0, 3, 3, 1, 3, 3, 3, 3, 3, 0, 3, 0, 0,\n",
       "       3, 3, 0, 3, 0, 0, 0, 3, 3, 3, 3, 3, 1, 1, 3, 3, 3, 3, 3, 1, 1, 3,\n",
       "       3, 3, 3, 3, 3, 3, 2, 1, 3, 3, 3, 3, 3, 3, 0, 1, 3, 3, 3, 3, 3, 3,\n",
       "       3, 3, 3, 3, 3, 0, 0, 3, 3, 3, 3, 0, 3, 3, 1, 3, 3, 0, 3, 3, 0, 3,\n",
       "       3, 3, 3, 0, 1, 3, 3, 3, 3, 3, 3, 3, 3, 3, 3, 3, 3, 3, 3, 3, 3, 0,\n",
       "       3, 3, 2, 3, 3, 3, 0, 3, 3, 3, 3, 3, 3, 3, 3, 3, 2, 3, 3, 2, 3, 0,\n",
       "       3, 0, 3, 1, 2, 3, 3, 0, 3, 3, 2, 3, 3, 3, 3, 1, 0, 0, 3, 0, 3, 0,\n",
       "       3, 3, 3, 3, 3, 3, 3, 3, 3, 3, 0, 3, 3, 0, 3, 3, 3, 1, 3, 3, 0, 1,\n",
       "       3, 3, 3, 3, 3, 0, 3, 3, 3, 3, 3, 3, 3, 3, 3, 3, 2, 3, 3, 3, 3, 3,\n",
       "       3, 0, 3, 0, 0, 3, 3, 3, 1, 3, 1, 3, 3, 3, 3, 3, 1, 3, 3, 0, 3, 3,\n",
       "       3, 0, 1, 1, 3, 3, 0, 3, 0, 0, 3, 1, 1, 3, 3, 3, 0, 3, 3, 1, 0, 3,\n",
       "       3, 2, 3, 1, 2, 0, 0, 3, 3, 3, 3, 3, 0, 3, 3, 0, 3, 3, 3, 3, 3, 3,\n",
       "       3, 3, 3, 1, 3, 3, 3, 2, 3, 1, 3, 2, 3, 3, 3, 3, 3, 1, 3, 1, 3, 3,\n",
       "       3, 3, 0, 3, 3, 0, 0, 3, 0, 3, 0, 3, 1, 3, 3, 2, 3, 3, 3, 3, 3, 3,\n",
       "       3, 1, 0, 3, 3, 3, 3, 1, 3, 2, 0, 0, 3, 3, 0, 3, 0, 2, 3, 2, 3, 3,\n",
       "       3, 3, 1, 3, 0, 3, 3, 3, 0, 1, 3, 0, 3, 3, 3, 3, 3, 3, 2, 3, 1, 3,\n",
       "       3, 3, 3, 0, 3, 3, 3, 1, 0, 3, 3, 0, 3, 3, 3, 2, 3, 0, 3, 3, 1, 3,\n",
       "       3, 3, 3, 3, 3, 2, 3, 3, 3, 3, 3, 0, 3, 3, 3, 3, 1, 3, 1, 3, 0, 3,\n",
       "       1, 3, 1, 3, 1, 3, 3, 1, 0, 3, 3, 3, 0, 3, 3, 3, 0, 1, 3, 3, 3, 1,\n",
       "       3, 3, 3, 3, 3, 0, 2, 0, 3, 3, 1, 3, 1, 3, 3, 3, 3, 3, 3, 3, 2, 3,\n",
       "       3, 3, 3, 3, 3, 1, 3, 3, 0, 3, 3, 0, 0, 3, 3, 1, 3, 3, 3, 3, 3, 3,\n",
       "       0, 3, 3, 3, 3, 3, 3, 3, 3, 3, 3, 2, 3, 0, 3, 2, 3, 0, 3, 3, 3, 0,\n",
       "       0, 3, 3, 3, 3, 3, 3, 3, 3, 3, 3, 3, 3, 3])"
      ]
     },
     "execution_count": 27,
     "metadata": {},
     "output_type": "execute_result"
    }
   ],
   "source": [
    "y_pred = gnb.predict(X_test)\n",
    "y_pred"
   ]
  },
  {
   "cell_type": "code",
   "execution_count": 28,
   "metadata": {},
   "outputs": [
    {
     "data": {
      "text/plain": [
       "0.26"
      ]
     },
     "execution_count": 28,
     "metadata": {},
     "output_type": "execute_result"
    }
   ],
   "source": [
    "round(accuracy_score(y_test, y_pred), 2)"
   ]
  },
  {
   "cell_type": "code",
   "execution_count": 29,
   "metadata": {},
   "outputs": [
    {
     "name": "stdout",
     "output_type": "stream",
     "text": [
      "Confusion matrix\n",
      "\n",
      " [[ 38  25   9  81]\n",
      " [ 23  21   9 127]\n",
      " [ 42  26   7 244]\n",
      " [ 12   9   5 150]]\n"
     ]
    }
   ],
   "source": [
    "from sklearn.metrics import confusion_matrix\n",
    "\n",
    "conf_mat = confusion_matrix(y_test, y_pred)\n",
    "print('Confusion matrix\\n\\n', conf_mat)"
   ]
  },
  {
   "cell_type": "markdown",
   "metadata": {},
   "source": [
    "## GridSearch"
   ]
  },
  {
   "cell_type": "markdown",
   "metadata": {},
   "source": [
    "### K - Nearest Neighbours y Logistic Regression"
   ]
  },
  {
   "cell_type": "markdown",
   "metadata": {},
   "source": [
    "Comenzamos importando el método de sklearn"
   ]
  },
  {
   "cell_type": "code",
   "execution_count": 30,
   "metadata": {},
   "outputs": [],
   "source": [
    "from sklearn.model_selection import GridSearchCV"
   ]
  },
  {
   "cell_type": "markdown",
   "metadata": {},
   "source": [
    "Instanciamos los estimadores/modelos"
   ]
  },
  {
   "cell_type": "code",
   "execution_count": 31,
   "metadata": {},
   "outputs": [],
   "source": [
    "models = [LogisticRegression(),\n",
    "          KNeighborsClassifier()]"
   ]
  },
  {
   "cell_type": "markdown",
   "metadata": {},
   "source": [
    "Definimos la grilla de parámetros que queremos testear"
   ]
  },
  {
   "cell_type": "code",
   "execution_count": 32,
   "metadata": {},
   "outputs": [],
   "source": [
    "params = [\n",
    "    {'C': [1, 10, 100, 1000],\n",
    "     'penalty': ['l1', 'l2',],\n",
    "     'solver': ['saga']},\n",
    "    {'n_neighbors': range(1,200),\n",
    "     'weights' : ['uniform', 'distance'],\n",
    "     'p' : [1, 2, 3]}\n",
    "]"
   ]
  },
  {
   "cell_type": "markdown",
   "metadata": {},
   "source": [
    "Definimos la cantidad de folds"
   ]
  },
  {
   "cell_type": "code",
   "execution_count": 37,
   "metadata": {},
   "outputs": [],
   "source": [
    "from sklearn.model_selection import StratifiedKFold\n",
    "folds = StratifiedKFold(n_splits=10, random_state=19, shuffle=True)"
   ]
  },
  {
   "cell_type": "markdown",
   "metadata": {},
   "source": [
    "Instanciamos el método GridSearchCV eligiendo accuracy como medida de scoring dado que los datos están balanceados, y el resto de argumentos que definimos arriba."
   ]
  },
  {
   "cell_type": "code",
   "execution_count": 38,
   "metadata": {},
   "outputs": [
    {
     "name": "stdout",
     "output_type": "stream",
     "text": [
      "GridSearchCV(cv=StratifiedKFold(n_splits=10, random_state=19, shuffle=True),\n",
      "             estimator=LogisticRegression(), n_jobs=4,\n",
      "             param_grid={'C': [1, 10, 100, 1000], 'penalty': ['l1', 'l2'],\n",
      "                         'solver': ['saga']},\n",
      "             scoring='accuracy')\n",
      "GridSearchCV(cv=StratifiedKFold(n_splits=10, random_state=19, shuffle=True),\n",
      "             estimator=KNeighborsClassifier(), n_jobs=4,\n",
      "             param_grid={'n_neighbors': range(1, 200), 'p': [1, 2, 3],\n",
      "                         'weights': ['uniform', 'distance']},\n",
      "             scoring='accuracy')\n"
     ]
    }
   ],
   "source": [
    "grids = []\n",
    "for i in range(len(models)):\n",
    "    gs = GridSearchCV(estimator=models[i], param_grid=params[i], scoring='accuracy', cv=folds, n_jobs=4)\n",
    "    print (gs)\n",
    "    fit = gs.fit(X_train, y_train)\n",
    "    grids.append(fit)"
   ]
  },
  {
   "cell_type": "markdown",
   "metadata": {},
   "source": [
    "Entrenamos utilizando el método .fit de grid"
   ]
  },
  {
   "cell_type": "code",
   "execution_count": 39,
   "metadata": {},
   "outputs": [
    {
     "name": "stdout",
     "output_type": "stream",
     "text": [
      "0.3861145237968057\n",
      "LogisticRegression(C=1, penalty='l1', solver='saga')\n",
      "{'C': 1, 'penalty': 'l1', 'solver': 'saga'}\n",
      "0.41562683617328133\n",
      "KNeighborsClassifier(n_neighbors=132, p=3)\n",
      "{'n_neighbors': 132, 'p': 3, 'weights': 'uniform'}\n"
     ]
    }
   ],
   "source": [
    "for i in grids:\n",
    "    print (i.best_score_)\n",
    "    print (i.best_estimator_)\n",
    "    print (i.best_params_)"
   ]
  },
  {
   "cell_type": "code",
   "execution_count": 43,
   "metadata": {},
   "outputs": [],
   "source": [
    "y_preds_log = grids[0].predict(X_test)\n",
    "y_preds_knn = grids[1].predict(X_test)"
   ]
  },
  {
   "cell_type": "code",
   "execution_count": 47,
   "metadata": {},
   "outputs": [],
   "source": [
    "from sklearn.metrics import classification_report, confusion_matrix"
   ]
  },
  {
   "cell_type": "code",
   "execution_count": 48,
   "metadata": {},
   "outputs": [
    {
     "name": "stdout",
     "output_type": "stream",
     "text": [
      "              precision    recall  f1-score   support\n",
      "\n",
      "           0       0.34      0.13      0.19       153\n",
      "           1       0.26      0.06      0.09       180\n",
      "           2       0.39      0.87      0.54       319\n",
      "           3       0.00      0.00      0.00       176\n",
      "\n",
      "    accuracy                           0.37       828\n",
      "   macro avg       0.25      0.27      0.20       828\n",
      "weighted avg       0.27      0.37      0.26       828\n",
      "\n"
     ]
    }
   ],
   "source": [
    "print (classification_report(y_test, y_preds_log))"
   ]
  },
  {
   "cell_type": "code",
   "execution_count": 49,
   "metadata": {},
   "outputs": [
    {
     "data": {
      "text/plain": [
       "array([[ 20,  10, 122,   1],\n",
       "       [ 10,  10, 155,   5],\n",
       "       [ 22,  14, 279,   4],\n",
       "       [  7,   4, 165,   0]], dtype=int64)"
      ]
     },
     "execution_count": 49,
     "metadata": {},
     "output_type": "execute_result"
    }
   ],
   "source": [
    "confusion_matrix(y_test, y_preds_log)"
   ]
  },
  {
   "cell_type": "code",
   "execution_count": 50,
   "metadata": {},
   "outputs": [
    {
     "name": "stdout",
     "output_type": "stream",
     "text": [
      "              precision    recall  f1-score   support\n",
      "\n",
      "           0       0.34      0.07      0.11       153\n",
      "           1       0.25      0.01      0.02       180\n",
      "           2       0.39      0.83      0.53       319\n",
      "           3       0.46      0.31      0.37       176\n",
      "\n",
      "    accuracy                           0.40       828\n",
      "   macro avg       0.36      0.30      0.26       828\n",
      "weighted avg       0.37      0.40      0.31       828\n",
      "\n"
     ]
    }
   ],
   "source": [
    "print (classification_report(y_test, y_preds_knn))"
   ]
  },
  {
   "cell_type": "code",
   "execution_count": 51,
   "metadata": {},
   "outputs": [
    {
     "data": {
      "text/plain": [
       "array([[ 10,   2, 135,   6],\n",
       "       [  9,   2, 156,  13],\n",
       "       [  5,   4, 265,  45],\n",
       "       [  5,   0, 117,  54]], dtype=int64)"
      ]
     },
     "execution_count": 51,
     "metadata": {},
     "output_type": "execute_result"
    }
   ],
   "source": [
    "confusion_matrix(y_test, y_preds_knn)"
   ]
  }
 ],
 "metadata": {
  "kernelspec": {
   "display_name": "Python 3",
   "language": "python",
   "name": "python3"
  },
  "language_info": {
   "codemirror_mode": {
    "name": "ipython",
    "version": 3
   },
   "file_extension": ".py",
   "mimetype": "text/x-python",
   "name": "python",
   "nbconvert_exporter": "python",
   "pygments_lexer": "ipython3",
   "version": "3.7.7"
  }
 },
 "nbformat": 4,
 "nbformat_minor": 4
}
