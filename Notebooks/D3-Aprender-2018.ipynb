{
 "cells": [
  {
   "cell_type": "markdown",
   "metadata": {},
   "source": [
    "# Introducción"
   ]
  },
  {
   "cell_type": "markdown",
   "metadata": {},
   "source": [
    "**PENDIENTE** \n",
    "\n",
    "\n",
    "Escribir un breve texto acerca de:\n",
    "- Objetivo del desafío\n",
    "- Plantear el problema que nos propusimos\n",
    "- ¿Cuál es nuestra meta?\n",
    "- ¿Cuales son los criterios de nuestro trabajo? (Herramientas que vamos a utilizar)\n",
    "- ¿De qué se trata y de dónde obtuvimos nuestro dataset? "
   ]
  },
  {
   "cell_type": "markdown",
   "metadata": {},
   "source": [
    "# Lectura del dataset"
   ]
  },
  {
   "cell_type": "code",
   "execution_count": 1,
   "metadata": {},
   "outputs": [],
   "source": [
    "#Importo bibliotecas\n",
    "\n",
    "import pandas as pd  \n",
    "import numpy as np \n",
    "import matplotlib.pyplot as plt\n",
    "import seaborn as sns\n",
    "%matplotlib inline"
   ]
  },
  {
   "cell_type": "code",
   "execution_count": 2,
   "metadata": {},
   "outputs": [
    {
     "name": "stderr",
     "output_type": "stream",
     "text": [
      "C:\\Users\\alexc\\anaconda3\\envs\\dhdsblend\\lib\\site-packages\\IPython\\core\\interactiveshell.py:3146: DtypeWarning: Columns (113) have mixed types.Specify dtype option on import or set low_memory=False.\n",
      "  interactivity=interactivity, compiler=compiler, result=result)\n"
     ]
    }
   ],
   "source": [
    "#Importo el dataset\n",
    "\n",
    "data = pd.read_csv('../Data/Aprender2018-primaria-6.csv', sep=';')"
   ]
  },
  {
   "cell_type": "markdown",
   "metadata": {},
   "source": [
    "The reason you get this low_memory warning is because guessing dtypes for each column is very memory demanding. Pandas tries to determine what dtype to set by analyzing the data in each column. \n",
    "\n",
    "Fuente: https://stackoverflow.com/questions/24251219/pandas-read-csv-low-memory-and-dtype-options"
   ]
  },
  {
   "cell_type": "code",
   "execution_count": 3,
   "metadata": {},
   "outputs": [
    {
     "data": {
      "text/html": [
       "<div>\n",
       "<style scoped>\n",
       "    .dataframe tbody tr th:only-of-type {\n",
       "        vertical-align: middle;\n",
       "    }\n",
       "\n",
       "    .dataframe tbody tr th {\n",
       "        vertical-align: top;\n",
       "    }\n",
       "\n",
       "    .dataframe thead th {\n",
       "        text-align: right;\n",
       "    }\n",
       "</style>\n",
       "<table border=\"1\" class=\"dataframe\">\n",
       "  <thead>\n",
       "    <tr style=\"text-align: right;\">\n",
       "      <th></th>\n",
       "      <th>ap1</th>\n",
       "      <th>ap2</th>\n",
       "      <th>ap3a</th>\n",
       "      <th>ap3b</th>\n",
       "      <th>ap3c</th>\n",
       "      <th>ap4</th>\n",
       "      <th>ap5a</th>\n",
       "      <th>ap5b</th>\n",
       "      <th>ap5c</th>\n",
       "      <th>ap5d</th>\n",
       "      <th>...</th>\n",
       "      <th>ponder</th>\n",
       "      <th>lpondera</th>\n",
       "      <th>ldesemp</th>\n",
       "      <th>lpuntaje</th>\n",
       "      <th>mpondera</th>\n",
       "      <th>mdesemp</th>\n",
       "      <th>mpuntaje</th>\n",
       "      <th>isocioa</th>\n",
       "      <th>isocioal</th>\n",
       "      <th>isocioam</th>\n",
       "    </tr>\n",
       "  </thead>\n",
       "  <tbody>\n",
       "    <tr>\n",
       "      <th>0</th>\n",
       "      <td>4</td>\n",
       "      <td>2</td>\n",
       "      <td>1</td>\n",
       "      <td>1</td>\n",
       "      <td>1</td>\n",
       "      <td>10</td>\n",
       "      <td>2</td>\n",
       "      <td>2</td>\n",
       "      <td>1</td>\n",
       "      <td>2</td>\n",
       "      <td>...</td>\n",
       "      <td>3,1642308</td>\n",
       "      <td>3,4787247</td>\n",
       "      <td>4</td>\n",
       "      <td>624,30237</td>\n",
       "      <td>3,6379006</td>\n",
       "      <td>3</td>\n",
       "      <td>497,9606</td>\n",
       "      <td>-1</td>\n",
       "      <td>-1</td>\n",
       "      <td>-1</td>\n",
       "    </tr>\n",
       "    <tr>\n",
       "      <th>1</th>\n",
       "      <td>2</td>\n",
       "      <td>1</td>\n",
       "      <td>1</td>\n",
       "      <td>1</td>\n",
       "      <td>1</td>\n",
       "      <td>4</td>\n",
       "      <td>1</td>\n",
       "      <td>1</td>\n",
       "      <td>-9</td>\n",
       "      <td>1</td>\n",
       "      <td>...</td>\n",
       "      <td>3,1642308</td>\n",
       "      <td>3,4787247</td>\n",
       "      <td>3</td>\n",
       "      <td>541,39209</td>\n",
       "      <td>3,6379006</td>\n",
       "      <td>3</td>\n",
       "      <td>511,72632</td>\n",
       "      <td>1</td>\n",
       "      <td>1</td>\n",
       "      <td>1</td>\n",
       "    </tr>\n",
       "    <tr>\n",
       "      <th>2</th>\n",
       "      <td>2</td>\n",
       "      <td>1</td>\n",
       "      <td>1</td>\n",
       "      <td>1</td>\n",
       "      <td>1</td>\n",
       "      <td>6</td>\n",
       "      <td>1</td>\n",
       "      <td>1</td>\n",
       "      <td>-9</td>\n",
       "      <td>1</td>\n",
       "      <td>...</td>\n",
       "      <td>3,1642308</td>\n",
       "      <td>3,4787247</td>\n",
       "      <td>3</td>\n",
       "      <td>470,68723</td>\n",
       "      <td>3,6379006</td>\n",
       "      <td>3</td>\n",
       "      <td>497,24191</td>\n",
       "      <td>2</td>\n",
       "      <td>2</td>\n",
       "      <td>2</td>\n",
       "    </tr>\n",
       "    <tr>\n",
       "      <th>3</th>\n",
       "      <td>5</td>\n",
       "      <td>2</td>\n",
       "      <td>1</td>\n",
       "      <td>1</td>\n",
       "      <td>1</td>\n",
       "      <td>6</td>\n",
       "      <td>1</td>\n",
       "      <td>1</td>\n",
       "      <td>2</td>\n",
       "      <td>1</td>\n",
       "      <td>...</td>\n",
       "      <td>2,203661</td>\n",
       "      <td>2,208158</td>\n",
       "      <td>2</td>\n",
       "      <td>434,76788</td>\n",
       "      <td>2,2108715</td>\n",
       "      <td>1</td>\n",
       "      <td>364,33578</td>\n",
       "      <td>3</td>\n",
       "      <td>3</td>\n",
       "      <td>3</td>\n",
       "    </tr>\n",
       "    <tr>\n",
       "      <th>4</th>\n",
       "      <td>4</td>\n",
       "      <td>2</td>\n",
       "      <td>1</td>\n",
       "      <td>1</td>\n",
       "      <td>1</td>\n",
       "      <td>5</td>\n",
       "      <td>1</td>\n",
       "      <td>1</td>\n",
       "      <td>-9</td>\n",
       "      <td>1</td>\n",
       "      <td>...</td>\n",
       "      <td>2,203661</td>\n",
       "      <td>2,208158</td>\n",
       "      <td>2</td>\n",
       "      <td>418,23492</td>\n",
       "      <td>2,2108715</td>\n",
       "      <td>1</td>\n",
       "      <td>366,13287</td>\n",
       "      <td>2</td>\n",
       "      <td>2</td>\n",
       "      <td>2</td>\n",
       "    </tr>\n",
       "  </tbody>\n",
       "</table>\n",
       "<p>5 rows × 124 columns</p>\n",
       "</div>"
      ],
      "text/plain": [
       "   ap1  ap2  ap3a  ap3b  ap3c  ap4  ap5a  ap5b  ap5c  ap5d  ...     ponder  \\\n",
       "0    4    2     1     1     1   10     2     2     1     2  ...  3,1642308   \n",
       "1    2    1     1     1     1    4     1     1    -9     1  ...  3,1642308   \n",
       "2    2    1     1     1     1    6     1     1    -9     1  ...  3,1642308   \n",
       "3    5    2     1     1     1    6     1     1     2     1  ...   2,203661   \n",
       "4    4    2     1     1     1    5     1     1    -9     1  ...   2,203661   \n",
       "\n",
       "    lpondera  ldesemp   lpuntaje   mpondera  mdesemp   mpuntaje  isocioa  \\\n",
       "0  3,4787247        4  624,30237  3,6379006        3   497,9606       -1   \n",
       "1  3,4787247        3  541,39209  3,6379006        3  511,72632        1   \n",
       "2  3,4787247        3  470,68723  3,6379006        3  497,24191        2   \n",
       "3   2,208158        2  434,76788  2,2108715        1  364,33578        3   \n",
       "4   2,208158        2  418,23492  2,2108715        1  366,13287        2   \n",
       "\n",
       "   isocioal  isocioam  \n",
       "0        -1        -1  \n",
       "1         1         1  \n",
       "2         2         2  \n",
       "3         3         3  \n",
       "4         2         2  \n",
       "\n",
       "[5 rows x 124 columns]"
      ]
     },
     "execution_count": 3,
     "metadata": {},
     "output_type": "execute_result"
    }
   ],
   "source": [
    "# Corroboramos que se haya importado correctamente\n",
    "\n",
    "data.head(5)"
   ]
  },
  {
   "cell_type": "markdown",
   "metadata": {},
   "source": [
    "# Parseo (entender los datos)"
   ]
  },
  {
   "cell_type": "markdown",
   "metadata": {},
   "source": [
    "**PENDIENTE**\n",
    "\n",
    "Descripción de las columnas (variables) del df.\n",
    "- Problema: son demasiadas columnas\n",
    "- Solución 1: dejar un link directo al excel con el diccionario\n",
    "- Solución 2: crear un diccionario para renombrar todas las columnas"
   ]
  },
  {
   "cell_type": "code",
   "execution_count": 4,
   "metadata": {},
   "outputs": [
    {
     "name": "stdout",
     "output_type": "stream",
     "text": [
      "<class 'pandas.core.frame.DataFrame'>\n",
      "RangeIndex: 579510 entries, 0 to 579509\n",
      "Columns: 124 entries, ap1 to isocioam\n",
      "dtypes: int64(114), object(10)\n",
      "memory usage: 548.2+ MB\n"
     ]
    }
   ],
   "source": [
    "# Breve resumen del df\n",
    "data.info()"
   ]
  },
  {
   "cell_type": "code",
   "execution_count": 106,
   "metadata": {},
   "outputs": [
    {
     "name": "stdout",
     "output_type": "stream",
     "text": [
      "Filas: 579510\n",
      "Columnas: 124\n",
      "Datos: 71859240\n"
     ]
    }
   ],
   "source": [
    "# ¿Cuántas filas y columnas hay? ¿y datos?\n",
    "print('Filas:', data.shape[0])\n",
    "print('Columnas:', data.shape[1])\n",
    "print('Datos:', data.size)"
   ]
  },
  {
   "cell_type": "code",
   "execution_count": 6,
   "metadata": {},
   "outputs": [
    {
     "data": {
      "text/plain": [
       "int64     114\n",
       "object     10\n",
       "dtype: int64"
      ]
     },
     "execution_count": 6,
     "metadata": {},
     "output_type": "execute_result"
    }
   ],
   "source": [
    "# ¿Qué tipos de datos tiene?\n",
    "data.dtypes.value_counts()"
   ]
  },
  {
   "cell_type": "code",
   "execution_count": 7,
   "metadata": {
    "scrolled": true
   },
   "outputs": [
    {
     "data": {
      "text/html": [
       "<div>\n",
       "<style scoped>\n",
       "    .dataframe tbody tr th:only-of-type {\n",
       "        vertical-align: middle;\n",
       "    }\n",
       "\n",
       "    .dataframe tbody tr th {\n",
       "        vertical-align: top;\n",
       "    }\n",
       "\n",
       "    .dataframe thead th {\n",
       "        text-align: right;\n",
       "    }\n",
       "</style>\n",
       "<table border=\"1\" class=\"dataframe\">\n",
       "  <thead>\n",
       "    <tr style=\"text-align: right;\">\n",
       "      <th></th>\n",
       "      <th>ICSE</th>\n",
       "      <th>ponder</th>\n",
       "      <th>lpondera</th>\n",
       "      <th>ldesemp</th>\n",
       "      <th>lpuntaje</th>\n",
       "      <th>mpondera</th>\n",
       "      <th>mdesemp</th>\n",
       "      <th>mpuntaje</th>\n",
       "      <th>isocioal</th>\n",
       "      <th>isocioam</th>\n",
       "    </tr>\n",
       "  </thead>\n",
       "  <tbody>\n",
       "    <tr>\n",
       "      <th>318506</th>\n",
       "      <td>3</td>\n",
       "      <td>1</td>\n",
       "      <td>1</td>\n",
       "      <td>2</td>\n",
       "      <td>417,6015</td>\n",
       "      <td>1,2810993</td>\n",
       "      <td>1</td>\n",
       "      <td>368,65927</td>\n",
       "      <td>2</td>\n",
       "      <td>2</td>\n",
       "    </tr>\n",
       "    <tr>\n",
       "      <th>413356</th>\n",
       "      <td>1</td>\n",
       "      <td>1,3084238</td>\n",
       "      <td>1,3110938</td>\n",
       "      <td>3</td>\n",
       "      <td>493,35904</td>\n",
       "      <td>1,5002341</td>\n",
       "      <td>3</td>\n",
       "      <td>476,11435</td>\n",
       "      <td>2</td>\n",
       "      <td>2</td>\n",
       "    </tr>\n",
       "    <tr>\n",
       "      <th>520769</th>\n",
       "      <td>3</td>\n",
       "      <td>1,9160796</td>\n",
       "      <td>1,4902327</td>\n",
       "      <td>1</td>\n",
       "      <td>368,87115</td>\n",
       "      <td>1,4805777</td>\n",
       "      <td>2</td>\n",
       "      <td>461,48688</td>\n",
       "      <td>-1</td>\n",
       "      <td>-1</td>\n",
       "    </tr>\n",
       "  </tbody>\n",
       "</table>\n",
       "</div>"
      ],
      "text/plain": [
       "       ICSE     ponder   lpondera ldesemp   lpuntaje   mpondera mdesemp  \\\n",
       "318506    3          1          1       2   417,6015  1,2810993       1   \n",
       "413356    1  1,3084238  1,3110938       3  493,35904  1,5002341       3   \n",
       "520769    3  1,9160796  1,4902327       1  368,87115  1,4805777       2   \n",
       "\n",
       "         mpuntaje isocioal isocioam  \n",
       "318506  368,65927        2        2  \n",
       "413356  476,11435        2        2  \n",
       "520769  461,48688       -1       -1  "
      ]
     },
     "execution_count": 7,
     "metadata": {},
     "output_type": "execute_result"
    }
   ],
   "source": [
    "# ¿Cuáles son las columnas de tipo objeto?\n",
    "data_object = data.dtypes == object\n",
    "data.loc[:,data_object].sample(3)"
   ]
  },
  {
   "cell_type": "markdown",
   "metadata": {},
   "source": [
    "Luego de inspeccionar el diccionario de variables y los posibles valores para cada una de ellas, identificamos que el dataframe contiene en su totalidad **variables categóricas numéricas** (a pesar de haber algunas variables de tipo `object`)"
   ]
  },
  {
   "cell_type": "markdown",
   "metadata": {},
   "source": [
    "### Análisis de valores vacíos, en blanco y multimarca"
   ]
  },
  {
   "cell_type": "code",
   "execution_count": 8,
   "metadata": {},
   "outputs": [
    {
     "data": {
      "text/plain": [
       "0"
      ]
     },
     "execution_count": 8,
     "metadata": {},
     "output_type": "execute_result"
    }
   ],
   "source": [
    "# ¿Hay valores nulos?\n",
    "data.isnull().any(axis=1).sum()"
   ]
  },
  {
   "cell_type": "markdown",
   "metadata": {},
   "source": [
    "El dataset no tiene valores nulos"
   ]
  },
  {
   "cell_type": "markdown",
   "metadata": {},
   "source": [
    "**OPCIONAL** Hacer función para buscar valores vacíos, en blanco o multimarca"
   ]
  },
  {
   "cell_type": "code",
   "execution_count": 58,
   "metadata": {},
   "outputs": [
    {
     "name": "stdout",
     "output_type": "stream",
     "text": [
      "Cantidad de respuestas con valores vacíos:  190000\n",
      "\n",
      "Distribuidas en 115 columnas\n",
      "\n",
      "Columnas con mayor cantidad (en porcentaje):\n",
      "mpuntaje    0.047418\n",
      "mdesemp     0.047418\n",
      "mpondera    0.047418\n",
      "ldesemp     0.039164\n",
      "lpondera    0.039164\n",
      "lpuntaje    0.039164\n",
      "isocioam    0.036065\n",
      "isocioal    0.029756\n",
      "ICSE        0.002297\n",
      "ap16        0.000000\n",
      "dtype: float64\n"
     ]
    }
   ],
   "source": [
    "# Analisis de las variables con valores vacíos (espacios en blanco)\n",
    "\n",
    "data_empty_mask = data == ' '\n",
    "print('Cantidad de respuestas con valores vacíos: ',data_empty_mask.sum().sum())\n",
    "\n",
    "data_empty = data_empty_mask.sum() != 0\n",
    "print('\\nDistribuidas en', data_empty.value_counts().iloc[0], 'columnas\\n')\n",
    "\n",
    "print('Columnas con mayor cantidad (en porcentaje):')\n",
    "columns_most_empty = data_empty_mask.sum().sort_values(ascending=False).head(10)\n",
    "print(columns_most_empty/len(data))"
   ]
  },
  {
   "cell_type": "markdown",
   "metadata": {},
   "source": [
    "No hay variables que muestren una cantidad significativa de valores vacíos"
   ]
  },
  {
   "cell_type": "code",
   "execution_count": 53,
   "metadata": {},
   "outputs": [
    {
     "name": "stdout",
     "output_type": "stream",
     "text": [
      "Cantidad de respuestas con valor \"en blanco\":  6413110\n",
      "\n",
      "Distribuidas en 110 columnas\n",
      "\n",
      "Columnas con mayor cantidad (en porcentaje):\n",
      "ap5h     0.989103\n",
      "ap5g     0.493964\n",
      "ap5c     0.439047\n",
      "ap5e     0.422707\n",
      "ap5f     0.402055\n",
      "ap26d    0.211244\n",
      "ap26e    0.201948\n",
      "ap26b    0.183030\n",
      "ap13c    0.177885\n",
      "ap5d     0.175959\n",
      "dtype: float64\n"
     ]
    }
   ],
   "source": [
    "# Analisis de las variables con valores \"en blanco\"(-9)\n",
    "\n",
    "data_white_mask = data == -9\n",
    "print('Cantidad de respuestas con valor \"en blanco\": ',data_white_mask.sum().sum())\n",
    "\n",
    "data_white = data_white_mask.sum() != 0\n",
    "print('\\nDistribuidas en', data_white.value_counts().iloc[0], 'columnas\\n')\n",
    "\n",
    "print('Columnas con mayor cantidad (en porcentaje):')\n",
    "columns_most_white = data_white_mask.sum().sort_values(ascending=False).head(10) \n",
    "print(columns_most_white/len(data))"
   ]
  },
  {
   "cell_type": "markdown",
   "metadata": {},
   "source": [
    "La variable \"¿Con quién vivís? No sé\" tiene casi todos los valores (98%) en blanco, por lo cual resulta irrelevante."
   ]
  },
  {
   "cell_type": "code",
   "execution_count": 54,
   "metadata": {},
   "outputs": [
    {
     "name": "stdout",
     "output_type": "stream",
     "text": [
      "Cantidad de respuestas con valor \"multimarca\":  82298\n",
      "\n",
      "Distribuidas en 83 columnas\n",
      "\n",
      "Columnas con mayor cantidad (en porcentaje):\n",
      "ap16     0.032995\n",
      "ap41a    0.007546\n",
      "ap13a    0.005948\n",
      "ap13b    0.004695\n",
      "ap25a    0.004631\n",
      "ap5d     0.004390\n",
      "ap41b    0.003101\n",
      "ap25d    0.002932\n",
      "ap25b    0.002568\n",
      "ap25f    0.002328\n",
      "dtype: float64\n"
     ]
    }
   ],
   "source": [
    "# Analisis de las variables con valores \"multimarca\"(-6)\n",
    "\n",
    "data_multiple_mask = data == -6\n",
    "print('Cantidad de respuestas con valor \"multimarca\": ',data_multiple_mask.sum().sum())\n",
    "\n",
    "data_multiple = data_multiple_mask.sum() != 0\n",
    "print('\\nDistribuidas en', data_multiple.value_counts().iloc[0], 'columnas\\n')\n",
    "\n",
    "print('Columnas con mayor cantidad (en porcentaje):')\n",
    "columns_most_multiple = data_multiple_mask.sum().sort_values(ascending=False).head(10) \n",
    "print(columns_most_multiple/len(data))"
   ]
  },
  {
   "cell_type": "markdown",
   "metadata": {},
   "source": [
    "No hay variables que muestren una cantidad significativa de valores \"multimarca\""
   ]
  },
  {
   "cell_type": "code",
   "execution_count": 60,
   "metadata": {},
   "outputs": [
    {
     "data": {
      "text/plain": [
       "106"
      ]
     },
     "execution_count": 60,
     "metadata": {},
     "output_type": "execute_result"
    }
   ],
   "source": [
    "# Análisis de observaciones duplicados\n",
    "\n",
    "data.duplicated().sum()"
   ]
  },
  {
   "cell_type": "markdown",
   "metadata": {},
   "source": [
    "**DEBATIR**\n",
    "\n",
    "Hay 106 valores que se reconocen como duplicados. Ahora bien, ¿estamos seguros de que son duplicados? Ninguna de las variables refiere a un valor único e irrepetible para cada alumno que participó de la prueba (ej: DNI o código de alumno)"
   ]
  },
  {
   "cell_type": "markdown",
   "metadata": {},
   "source": [
    "### Analizamos la variable target "
   ]
  },
  {
   "cell_type": "code",
   "execution_count": 15,
   "metadata": {},
   "outputs": [
    {
     "data": {
      "text/plain": [
       "3    211584\n",
       "2    124422\n",
       "4    113519\n",
       "1    102506\n",
       "      27479\n",
       "Name: mdesemp, dtype: int64"
      ]
     },
     "execution_count": 15,
     "metadata": {},
     "output_type": "execute_result"
    }
   ],
   "source": [
    "# ¿Qué valores toma \"Desempeño en matemática\"?\n",
    "data.mdesemp.value_counts()"
   ]
  },
  {
   "cell_type": "code",
   "execution_count": 16,
   "metadata": {},
   "outputs": [
    {
     "name": "stdout",
     "output_type": "stream",
     "text": [
      "3    0.37\n",
      "2    0.21\n",
      "4    0.20\n",
      "1    0.18\n",
      "     0.05\n",
      "Name: mdesemp, dtype: float64\n"
     ]
    },
    {
     "data": {
      "image/png": "[encoded data removed]",
      "text/plain": [
       "<Figure size 432x288 with 1 Axes>"
      ]
     },
     "metadata": {
      "needs_background": "light"
     },
     "output_type": "display_data"
    }
   ],
   "source": [
    "# ¿Están las clases balanceadas?\n",
    "print(data.mdesemp.value_counts(normalize=True, ascending=False).round(2))\n",
    "\n",
    "sns.countplot(data.mdesemp.sort_values(), label=\"Count\")\n",
    "plt.show()"
   ]
  },
  {
   "cell_type": "markdown",
   "metadata": {},
   "source": [
    "**OPCIONAL** Podemos mejorar el gráfico (agregar labels con los porcentajes a cada barra)"
   ]
  },
  {
   "cell_type": "markdown",
   "metadata": {},
   "source": [
    "**DEBATE** ¿Están balanceadas las clases? Agregar texto explicando por qué sí o por que nó"
   ]
  },
  {
   "cell_type": "markdown",
   "metadata": {},
   "source": [
    "**pendiente** ESTADÍSTICA DESCRIPTIVA"
   ]
  },
  {
   "cell_type": "markdown",
   "metadata": {},
   "source": [
    "# MINAR (preparar, estructurar y limpiar los datos)"
   ]
  },
  {
   "cell_type": "markdown",
   "metadata": {},
   "source": [
    "Objetivos:\n",
    "- Eliminar variables innecesarias\n",
    "- Realizar una muestra aleatoria para agilizar el trabajo computacional\n",
    "- Decidir como tratar los valores atípicos\n",
    "- Crear nuevas variables derivadas de los datos: recodificaciones, info nueva, etc"
   ]
  },
  {
   "cell_type": "markdown",
   "metadata": {},
   "source": [
    "### Variable dependiente/target"
   ]
  },
  {
   "cell_type": "markdown",
   "metadata": {},
   "source": [
    "**PENDIENTE** Explicar por qué vamos a eliminar las filas con campos vacíos"
   ]
  },
  {
   "cell_type": "code",
   "execution_count": 96,
   "metadata": {
    "scrolled": true
   },
   "outputs": [
    {
     "data": {
      "text/plain": [
       "(552031, 124)"
      ]
     },
     "execution_count": 96,
     "metadata": {},
     "output_type": "execute_result"
    }
   ],
   "source": [
    "# Eliminamos los campos de la variable target vacíos\n",
    "rows_mdesemp_to_drop = data.loc[data_empty_mask.mdesemp,:].index\n",
    "# rows_mdesemp_to_drop.index\n",
    "data1 = data.drop(rows_mdesemp_to_drop, axis=0)\n",
    "data1.shape"
   ]
  },
  {
   "cell_type": "code",
   "execution_count": 100,
   "metadata": {},
   "outputs": [
    {
     "name": "stdout",
     "output_type": "stream",
     "text": [
      "Cantidad de filas eliminadas: 27479\n"
     ]
    }
   ],
   "source": [
    "print('Cantidad de filas eliminadas:', data.shape[0]-data1.shape[0])"
   ]
  },
  {
   "cell_type": "code",
   "execution_count": 101,
   "metadata": {},
   "outputs": [
    {
     "name": "stdout",
     "output_type": "stream",
     "text": [
      "3    0.38\n",
      "2    0.23\n",
      "4    0.21\n",
      "1    0.19\n",
      "Name: mdesemp, dtype: float64\n"
     ]
    },
    {
     "data": {
      "image/png": "[encoded data removed]",
      "text/plain": [
       "<Figure size 432x288 with 1 Axes>"
      ]
     },
     "metadata": {
      "needs_background": "light"
     },
     "output_type": "display_data"
    }
   ],
   "source": [
    "# ¿Están las clases balanceadas?\n",
    "print(data1.mdesemp.value_counts(normalize=True, ascending=False).round(2))\n",
    "\n",
    "sns.countplot(data1.mdesemp.sort_values(), label=\"Count\")\n",
    "plt.show()"
   ]
  },
  {
   "cell_type": "markdown",
   "metadata": {},
   "source": [
    "**PENDIENTE** Otra vez, ¿están balanceadas las clases?"
   ]
  },
  {
   "cell_type": "markdown",
   "metadata": {},
   "source": [
    "### Variables independientes"
   ]
  },
  {
   "cell_type": "markdown",
   "metadata": {},
   "source": [
    "Variables explicativas que no utilizaremos:\n",
    "- ICSE\n",
    "- ponder\n",
    "- pondera\n",
    "- lpuntaje\n",
    "- mpondera\n",
    "- mpuntaje\n",
    "- isocioa\n",
    "- isocioal\n",
    "- isocioam\n",
    "- ap5h **RENOMBRAR**\n",
    "- ldesemp"
   ]
  },
  {
   "cell_type": "code",
   "execution_count": 117,
   "metadata": {
    "scrolled": true
   },
   "outputs": [
    {
     "data": {
      "text/plain": [
       "(552031, 113)"
      ]
     },
     "execution_count": 117,
     "metadata": {},
     "output_type": "execute_result"
    }
   ],
   "source": [
    "# Generamos un nuevo dataframe sin las columnas innecesarias\n",
    "columns_to_drop = ['ICSE','ponder','lpondera','lpuntaje','mpondera','mpuntaje',\n",
    "                   'isocioa','isocioal','isocioam','ap5h','ldesemp']\n",
    "data2 = data1.drop(columns_to_drop, axis=1)\n",
    "data2.shape"
   ]
  },
  {
   "cell_type": "markdown",
   "metadata": {},
   "source": [
    "### Tipos de datos"
   ]
  },
  {
   "cell_type": "code",
   "execution_count": 118,
   "metadata": {},
   "outputs": [
    {
     "name": "stdout",
     "output_type": "stream",
     "text": [
      "int64     112\n",
      "object      1\n",
      "dtype: int64 \n",
      "\n",
      "Index(['mdesemp'], dtype='object')\n"
     ]
    }
   ],
   "source": [
    "print(data2.dtypes.value_counts(),'\\n')\n",
    "\n",
    "data2_object_mask = data2.dtypes == object\n",
    "print(data2.loc[:,data2_object_mask].columns)"
   ]
  },
  {
   "cell_type": "markdown",
   "metadata": {},
   "source": [
    "La variable target es la única con tipo de datos `object`. Como solo tiene valores numéricos (1, 2, 3 y 4) la transformamos a `int64` y pasamos a trabajar con un dataset uniforme"
   ]
  },
  {
   "cell_type": "code",
   "execution_count": 129,
   "metadata": {},
   "outputs": [
    {
     "data": {
      "text/plain": [
       "int64    113\n",
       "dtype: int64"
      ]
     },
     "execution_count": 129,
     "metadata": {},
     "output_type": "execute_result"
    }
   ],
   "source": [
    "data3 = data2\n",
    "data3['mdesemp'] = data2.mdesemp.astype('int64')\n",
    "data3.dtypes.value_counts()"
   ]
  },
  {
   "cell_type": "code",
   "execution_count": 170,
   "metadata": {},
   "outputs": [
    {
     "data": {
      "text/plain": [
       "0"
      ]
     },
     "execution_count": 170,
     "metadata": {},
     "output_type": "execute_result"
    }
   ],
   "source": [
    "# ¿Sigue habiendo valores con espacios en blanco?\n",
    "\n",
    "data3_empty_mask = data3 == ' '\n",
    "data3_empty_mask.sum().sum()"
   ]
  },
  {
   "cell_type": "markdown",
   "metadata": {},
   "source": [
    "### Tamaño de la muestra"
   ]
  },
  {
   "cell_type": "code",
   "execution_count": 131,
   "metadata": {},
   "outputs": [
    {
     "name": "stdout",
     "output_type": "stream",
     "text": [
      "Tamaño del dataset transformado: 62379503\n"
     ]
    }
   ],
   "source": [
    "print('Tamaño del dataset transformado:', data3.size)"
   ]
  },
  {
   "cell_type": "code",
   "execution_count": 163,
   "metadata": {},
   "outputs": [
    {
     "name": "stdout",
     "output_type": "stream",
     "text": [
      "Tamaño de la muestra: 62376\n"
     ]
    }
   ],
   "source": [
    "# Generamos un nuevo df a partir de una muestra aleatoria\n",
    "data4 = data3.sample(frac=0.001, random_state=123)\n",
    "print('Tamaño de la muestra:', data4.size)"
   ]
  },
  {
   "cell_type": "code",
   "execution_count": 161,
   "metadata": {},
   "outputs": [
    {
     "name": "stdout",
     "output_type": "stream",
     "text": [
      "3    0.40\n",
      "2    0.22\n",
      "1    0.19\n",
      "4    0.19\n",
      "Name: mdesemp, dtype: float64\n"
     ]
    },
    {
     "data": {
      "image/png": "[encoded data removed]",
      "text/plain": [
       "<Figure size 432x288 with 1 Axes>"
      ]
     },
     "metadata": {
      "needs_background": "light"
     },
     "output_type": "display_data"
    }
   ],
   "source": [
    "# Corroboramos que las categorías de la variable target sigan balanceadas\n",
    "print(data4.mdesemp.value_counts(normalize=True, ascending=False).round(2))\n",
    "\n",
    "sns.countplot(data4.mdesemp.sort_values(), label=\"Count\")\n",
    "plt.show()"
   ]
  }
 ],
 "metadata": {
  "kernelspec": {
   "display_name": "Python 3",
   "language": "python",
   "name": "python3"
  },
  "language_info": {
   "codemirror_mode": {
    "name": "ipython",
    "version": 3
   },
   "file_extension": ".py",
   "mimetype": "text/x-python",
   "name": "python",
   "nbconvert_exporter": "python",
   "pygments_lexer": "ipython3",
   "version": "3.7.7"
  }
 },
 "nbformat": 4,
 "nbformat_minor": 4
}
